{
  "nbformat": 4,
  "nbformat_minor": 0,
  "metadata": {
    "colab": {
      "name": "Classification.ipynb",
      "provenance": [],
      "collapsed_sections": [
        "H5MacQhoGBS8",
        "nrmNF1nqGJ6T",
        "Ul4ikSmeGTuH",
        "zT9Wm1hZGbzB",
        "fTqNxeFymzC3",
        "AWwFZ8A8m41I",
        "q6WDlH-sLYWL",
        "6AYwidtzJjV6",
        "Xmoz7g6RAP9b",
        "BMk4XlWzJP9P",
        "LOYnPnyg9pMn",
        "ppjBvnJOjs6V",
        "khl_lqX4m7IU",
        "Nt1H7LggAoe7",
        "U4xf0i5oDcwm",
        "gD2JVdC-LncC",
        "8o3GT2bwKOly",
        "hd0pT-xJQAQE",
        "OyI5k7VrQAQF",
        "vR737p-pQAQJ",
        "tlBNTACnQAQM",
        "tEgV8aleQAQO",
        "Xh8BLRDpQAQQ",
        "ODaIb9AxQAQT",
        "3VvMhU_FQAQU",
        "K8bV6VY6QAQV",
        "Rq5i5bCWQAQX",
        "7tXvN9qiQAQZ",
        "uKwyCLM2QAQb",
        "Q9YaS-Z1QAQd",
        "kWrtFkZNQAQd",
        "6WdQVlpkQAQe",
        "i8z6s6ddGGgV",
        "5vK8v41i-4e8",
        "sV5GyS2EOGOs",
        "JpqgndPNOZ1k",
        "E3-fx9CgOZ1m",
        "RcUGjsv_OobC",
        "SJX0etnTOobE",
        "4akPoMXAOobG",
        "IHIp4mt8Gtnk",
        "lfVXpBZAKAm1",
        "qoum6SBKAUoD",
        "i6Xoh2BhHhEr",
        "ZKRzFXhzLBrs",
        "8dxxfxu3AcLQ",
        "u9FHauOhH03a",
        "6zZ4E7mwLVh-",
        "-h5RsekBIEsi",
        "82WMLPvJ-r-u",
        "lXtac5R3_i3V",
        "nTOyvBfs_i3W",
        "N5YiuXGEPMxh",
        "WV4udhjSPMxk",
        "aojy8NZ8PMxm",
        "APu_XlJ-PMxo",
        "n4zm8mVhPMxq",
        "1HHf2_aCPMxs",
        "XdFkNgHc_i3Z",
        "20od4qE9_i3b",
        "t6P5bktN_i3c",
        "9-aZ63Hy_i3d",
        "lsBkeOL0_i3e",
        "EIwXw-SR_i3g",
        "l32n-aqX_i3l"
      ],
      "mount_file_id": "111-_1k45I5TwSm6oaPglH3a9yzvpggBo",
      "authorship_tag": "ABX9TyOFRm7qornAntflwrMYpfJk",
      "include_colab_link": true
    },
    "kernelspec": {
      "name": "python3",
      "display_name": "Python 3"
    },
    "language_info": {
      "name": "python"
    }
  },
  "cells": [
    {
      "cell_type": "markdown",
      "metadata": {
        "id": "view-in-github",
        "colab_type": "text"
      },
      "source": [
        "<a href=\"https://colab.research.google.com/github/morteza-sakifard/classification/blob/main/Classification.ipynb\" target=\"_parent\"><img src=\"https://colab.research.google.com/assets/colab-badge.svg\" alt=\"Open In Colab\"/></a>"
      ]
    },
    {
      "cell_type": "markdown",
      "metadata": {
        "id": "H5MacQhoGBS8"
      },
      "source": [
        "# Import Libraries"
      ]
    },
    {
      "cell_type": "code",
      "metadata": {
        "id": "R1kQDPKXlMvZ"
      },
      "source": [
        "import pandas as pd\n",
        "import numpy as np\n",
        "import matplotlib.pyplot as plt\n",
        "%matplotlib inline"
      ],
      "execution_count": null,
      "outputs": []
    },
    {
      "cell_type": "markdown",
      "metadata": {
        "id": "nrmNF1nqGJ6T"
      },
      "source": [
        "# Sahpe Of Dataset\n",
        "### Include Number of Classes & Features"
      ]
    },
    {
      "cell_type": "code",
      "metadata": {
        "id": "pNDbBhuFLL1Q"
      },
      "source": [
        "def get_shape(dataset):\n",
        "  number_of_classes = dataset.groupby('Class').ngroups\n",
        "  number_of_features = dataset.loc[:, dataset.columns != 'Class'].columns.size\n",
        "  return (number_of_classes, number_of_features)"
      ],
      "execution_count": null,
      "outputs": []
    },
    {
      "cell_type": "markdown",
      "metadata": {
        "id": "Ul4ikSmeGTuH"
      },
      "source": [
        "# Mean Of Each Class"
      ]
    },
    {
      "cell_type": "code",
      "metadata": {
        "id": "3z7RQFkdqYVv"
      },
      "source": [
        "#implemented such as dataset.groupby('Class').mean()\n",
        "def get_mean(dataset):\n",
        "  df = pd.DataFrame()\n",
        "  number_of_classes, number_of_features = get_shape(dataset)\n",
        "  for class_number in range(1, number_of_classes + 1):\n",
        "    class_data = dataset[dataset['Class'] == class_number]\n",
        "    means = {}\n",
        "    for feature_number in range(1, number_of_features + 1):\n",
        "      means[f'Feature {feature_number}'] = sum(class_data[f'Feature {feature_number}']) / len(class_data)\n",
        "    means['Class'] = class_number\n",
        "    df = df.append(means, ignore_index = True)\n",
        "  df = df.set_index(['Class'])\n",
        "  return df"
      ],
      "execution_count": null,
      "outputs": []
    },
    {
      "cell_type": "markdown",
      "metadata": {
        "id": "zT9Wm1hZGbzB"
      },
      "source": [
        "# Covariance Of Each Class"
      ]
    },
    {
      "cell_type": "code",
      "metadata": {
        "id": "_Ld4jBRZFyg4"
      },
      "source": [
        "#implemented such as dataset.groupby('Class').cov()\n",
        "def get_covariance(dataset):\n",
        "  df = pd.DataFrame()\n",
        "  number_of_classes, number_of_features = get_shape(dataset)\n",
        "  mean = get_mean(dataset)\n",
        "  for class_number in range(1, number_of_classes + 1):\n",
        "    class_data = dataset[dataset['Class'] == class_number]\n",
        "    covariance = {}\n",
        "    for feature_number in range(1, number_of_features + 1):\n",
        "      feature_data = class_data[f'Feature {feature_number}']\n",
        "      variance = sum((feature_data - mean.loc[class_number][f'Feature {feature_number}']) ** 2) / (len(class_data) - 1)\n",
        "      covariance.setdefault(f'Feature {feature_number}',[]).append(variance)\n",
        "      for next_feature_number in range(feature_number + 1, number_of_features + 1):\n",
        "        next_feature_data = class_data[f'Feature {next_feature_number}']\n",
        "        cov = sum((feature_data - mean.loc[class_number][f'Feature {feature_number}']) * (next_feature_data - mean.loc[class_number][f'Feature {feature_number}'])) / (len(class_data) - 1)\n",
        "        covariance.setdefault(f'Feature {next_feature_number}',[]).append(cov)\n",
        "        covariance[f'Feature {feature_number}'].append(cov)\n",
        "      covariance.setdefault('Class',[]).append(class_number)\n",
        "    class_df = pd.DataFrame(covariance, index=mean.columns)\n",
        "    df = df.append(class_df)\n",
        "  return df"
      ],
      "execution_count": null,
      "outputs": []
    },
    {
      "cell_type": "markdown",
      "metadata": {
        "id": "fTqNxeFymzC3"
      },
      "source": [
        "# Likelihood"
      ]
    },
    {
      "cell_type": "code",
      "metadata": {
        "id": "Fz-VtI1RiwSI"
      },
      "source": [
        "def get_liklihood(x, number_of_features, mean, covariance):\n",
        "  return np.power(2 * np.pi, number_of_features * (-1 / 2)) * np.power(np.linalg.det(covariance), -1 / 2) * np.exp((-1 / 2) * (x - mean).T @ np.linalg.inv(covariance) @ (x - mean))"
      ],
      "execution_count": null,
      "outputs": []
    },
    {
      "cell_type": "markdown",
      "metadata": {
        "id": "AWwFZ8A8m41I"
      },
      "source": [
        "# Prior"
      ]
    },
    {
      "cell_type": "code",
      "metadata": {
        "id": "2a-L6570mlkE"
      },
      "source": [
        "def get_prior(dataset):\n",
        "  return dataset.groupby('Class').size() / len(dataset)"
      ],
      "execution_count": null,
      "outputs": []
    },
    {
      "cell_type": "markdown",
      "source": [
        "# Euclidean Distance"
      ],
      "metadata": {
        "id": "q6WDlH-sLYWL"
      }
    },
    {
      "cell_type": "code",
      "source": [
        "def get_euclidean_distance(x, mean):\n",
        "  return np.sqrt((x - mean).T @ (x - mean))"
      ],
      "metadata": {
        "id": "Y59KwlcYLYWN"
      },
      "execution_count": null,
      "outputs": []
    },
    {
      "cell_type": "markdown",
      "source": [
        "# Mahalanobis Distance"
      ],
      "metadata": {
        "id": "6AYwidtzJjV6"
      }
    },
    {
      "cell_type": "code",
      "source": [
        "def get_mahalanobis_distance(x, mean, covariance):\n",
        "  return np.sqrt((x - mean).T @ np.linalg.inv(covariance) @ (x - mean))"
      ],
      "metadata": {
        "id": "vKzSK7wJJrgW"
      },
      "execution_count": null,
      "outputs": []
    },
    {
      "cell_type": "markdown",
      "metadata": {
        "id": "Xmoz7g6RAP9b"
      },
      "source": [
        "# Confusion Matrix"
      ]
    },
    {
      "cell_type": "code",
      "metadata": {
        "id": "SGJ0Sct1SKO8"
      },
      "source": [
        "def get_confusion_matrix(dataset, classified_labels):\n",
        "  number_of_classes, number_of_features = get_shape(dataset)\n",
        "  confusion_matrix = {}\n",
        "  for class_number in range(1, number_of_classes + 1):\n",
        "    classification_result = classified_labels[dataset[dataset['Class'] == class_number].index]\n",
        "    confusion_matrix[class_number] = []\n",
        "    for predicted_class_number in range(1, number_of_classes + 1):\n",
        "      confusion_matrix[class_number].append((classification_result == predicted_class_number).sum())\n",
        "  return pd.DataFrame(confusion_matrix, index=range(1, number_of_classes + 1))"
      ],
      "execution_count": null,
      "outputs": []
    },
    {
      "cell_type": "markdown",
      "metadata": {
        "id": "BMk4XlWzJP9P"
      },
      "source": [
        "# Evaluate Classifier"
      ]
    },
    {
      "cell_type": "code",
      "metadata": {
        "id": "wQR7gQnjJQR3"
      },
      "source": [
        "#return accuracy of classifier [Total, Class 1, Class 2, ...]\n",
        "def evaluate_classifier(dataset, confusion_matrix):\n",
        "  number_of_classes, number_of_features = get_shape(dataset)\n",
        "  accuracy = [np.diag(confusion_matrix).sum() / confusion_matrix.sum().sum()]\n",
        "  for class_number in range(1, number_of_classes + 1):\n",
        "    accuracy.append(confusion_matrix[class_number][class_number] / confusion_matrix[class_number].sum())\n",
        "  return accuracy"
      ],
      "execution_count": null,
      "outputs": []
    },
    {
      "cell_type": "markdown",
      "source": [
        "# Print Evaluation"
      ],
      "metadata": {
        "id": "LOYnPnyg9pMn"
      }
    },
    {
      "cell_type": "code",
      "source": [
        "def print_evaluation(dataset, accuracy):\n",
        "  number_of_classes, number_of_features = get_shape(dataset)\n",
        "  labels = ['Total Accuracy']\n",
        "  labels += [f'Accuracy Class {class_number}' for class_number in range(1, number_of_classes + 1)]\n",
        "  percentage_format = ['{:,.0%}'.format for class_number in range(number_of_classes + 1)]\n",
        "  df = pd.DataFrame(accuracy, index=labels).T\n",
        "  df = df.style.format(dict(zip(labels, percentage_format)))\n",
        "  return df"
      ],
      "metadata": {
        "id": "HmWD2FED2eTe"
      },
      "execution_count": null,
      "outputs": []
    },
    {
      "cell_type": "markdown",
      "metadata": {
        "id": "ppjBvnJOjs6V"
      },
      "source": [
        "# Maximum Likelihood Classifier"
      ]
    },
    {
      "cell_type": "code",
      "metadata": {
        "id": "NJMjelK1IhOO"
      },
      "source": [
        "def classify_with_maximum_liklihood(dataset):\n",
        "  number_of_classes, number_of_features = get_shape(dataset)\n",
        "  covariance = get_covariance(dataset)\n",
        "  mean = get_mean(dataset)\n",
        "  classified_labels = []\n",
        "  for index, row in dataset.iterrows():\n",
        "    classified_row = []\n",
        "    for class_number in range(1, number_of_classes + 1):\n",
        "      class_covariance = covariance[covariance['Class'] == class_number].loc[:, covariance.columns != 'Class']\n",
        "      class_mean = mean.loc[class_number]\n",
        "      liklihood = get_liklihood(row[:number_of_features], number_of_features, class_mean, class_covariance)\n",
        "      classified_row.append(liklihood)\n",
        "    maximum_liklihood = np.argmax(classified_row)\n",
        "    predict_class = maximum_liklihood + 1\n",
        "    classified_labels.append(predict_class)\n",
        "  return np.array(classified_labels)"
      ],
      "execution_count": null,
      "outputs": []
    },
    {
      "cell_type": "markdown",
      "metadata": {
        "id": "khl_lqX4m7IU"
      },
      "source": [
        "# Maximum A Posterior Classifier"
      ]
    },
    {
      "cell_type": "code",
      "metadata": {
        "id": "avJgZKhLonhZ"
      },
      "source": [
        "def classify_with_maximum_a_posterior(dataset):\n",
        "  number_of_classes, number_of_features = get_shape(dataset)\n",
        "  covariance = get_covariance(dataset)\n",
        "  mean = get_mean(dataset)\n",
        "  prior = get_prior(dataset)\n",
        "  classified_labels = []\n",
        "  for index, row in dataset.iterrows():\n",
        "    classified_row = []\n",
        "    for class_number in range(1, number_of_classes + 1):\n",
        "      class_covariance = covariance[covariance['Class'] == class_number].loc[:, covariance.columns != 'Class']\n",
        "      class_mean = mean.loc[class_number]\n",
        "      liklihood = get_liklihood(row[:number_of_features], number_of_features, class_mean, class_covariance)\n",
        "      posterior = liklihood * prior[class_number]\n",
        "      classified_row.append(posterior)\n",
        "    maximum_posterior_index = np.argmax(classified_row)\n",
        "    predict_class = maximum_posterior_index + 1\n",
        "    classified_labels.append(predict_class)\n",
        "  return np.array(classified_labels)"
      ],
      "execution_count": null,
      "outputs": []
    },
    {
      "cell_type": "markdown",
      "metadata": {
        "id": "Nt1H7LggAoe7"
      },
      "source": [
        "# Bayesian Classifier"
      ]
    },
    {
      "cell_type": "code",
      "metadata": {
        "id": "HfSOkNZ1ApB4"
      },
      "source": [
        "def classify_with_Bayesian(dataset, cost_function):\n",
        "  number_of_classes, number_of_features = get_shape(dataset)\n",
        "  covariance = get_covariance(dataset)\n",
        "  mean = get_mean(dataset)\n",
        "  prior = get_prior(dataset)\n",
        "  classified_labels = []\n",
        "  for index, row in dataset.iterrows():\n",
        "    classified_row = []\n",
        "    for class_number in range(1, number_of_classes + 1):\n",
        "      class_covariance = covariance[covariance['Class'] == class_number].loc[:, covariance.columns != 'Class']\n",
        "      class_mean = mean.loc[class_number]\n",
        "      liklihood = get_liklihood(row[:number_of_features], number_of_features, class_mean, class_covariance)\n",
        "      cost = cost_function.loc[3 - class_number][class_number] - cost_function.loc[class_number][class_number]\n",
        "      posterior = liklihood * prior[class_number] * cost\n",
        "      classified_row.append(posterior)\n",
        "    maximum_posterior_index = np.argmax(classified_row)\n",
        "    predict_class = maximum_posterior_index + 1\n",
        "    classified_labels.append(predict_class)\n",
        "  return np.array(classified_labels)"
      ],
      "execution_count": null,
      "outputs": []
    },
    {
      "cell_type": "markdown",
      "metadata": {
        "id": "U4xf0i5oDcwm"
      },
      "source": [
        "## Reformat Cost Function"
      ]
    },
    {
      "cell_type": "code",
      "metadata": {
        "id": "yUIvc3kIDvdb"
      },
      "source": [
        "def reformat_cost_function(cost_function):\n",
        "  number_of_classes, number_of_features = get_shape(dataset)\n",
        "  return pd.DataFrame(cost_function, columns=range(1, number_of_classes + 1), index=range(1, number_of_classes + 1))"
      ],
      "execution_count": null,
      "outputs": []
    },
    {
      "cell_type": "markdown",
      "source": [
        "# Minimum Euclidean Distance Classifier"
      ],
      "metadata": {
        "id": "gD2JVdC-LncC"
      }
    },
    {
      "cell_type": "code",
      "source": [
        "def classify_with_minimum_euclidean_distance(dataset):\n",
        "  number_of_classes, number_of_features = get_shape(dataset)\n",
        "  mean = get_mean(dataset)\n",
        "  classified_labels = []\n",
        "  for index, row in dataset.iterrows():\n",
        "    classified_row = []\n",
        "    for class_number in range(1, number_of_classes + 1):\n",
        "      class_mean = mean.loc[class_number]\n",
        "      euclidean_distance = get_euclidean_distance(row[:number_of_features], class_mean)\n",
        "      classified_row.append(euclidean_distance)\n",
        "    minimum_euclidean_distance_index = np.argmin(classified_row)\n",
        "    predict_class = minimum_euclidean_distance_index + 1\n",
        "    classified_labels.append(predict_class)\n",
        "  return np.array(classified_labels)"
      ],
      "metadata": {
        "id": "WhN-9-0cLncE"
      },
      "execution_count": null,
      "outputs": []
    },
    {
      "cell_type": "markdown",
      "source": [
        "# Minimum Mahalanobis Distance Classifier"
      ],
      "metadata": {
        "id": "8o3GT2bwKOly"
      }
    },
    {
      "cell_type": "code",
      "source": [
        "def classify_with_minimum_mahalanobis_distance(dataset):\n",
        "  number_of_classes, number_of_features = get_shape(dataset)\n",
        "  covariance = get_covariance(dataset)\n",
        "  mean = get_mean(dataset)\n",
        "  classified_labels = []\n",
        "  for index, row in dataset.iterrows():\n",
        "    classified_row = []\n",
        "    for class_number in range(1, number_of_classes + 1):\n",
        "      class_covariance = covariance[covariance['Class'] == class_number].loc[:, covariance.columns != 'Class']\n",
        "      class_mean = mean.loc[class_number]\n",
        "      mahalanobis_distance = get_mahalanobis_distance(row[:number_of_features], class_mean, class_covariance)\n",
        "      classified_row.append(mahalanobis_distance)\n",
        "    minimum_mahalanobis_distance_index = np.argmin(classified_row)\n",
        "    predict_class = minimum_mahalanobis_distance_index + 1\n",
        "    classified_labels.append(predict_class)\n",
        "  return np.array(classified_labels)"
      ],
      "metadata": {
        "id": "D5e8TNRsKX8W"
      },
      "execution_count": null,
      "outputs": []
    },
    {
      "cell_type": "markdown",
      "metadata": {
        "id": "hd0pT-xJQAQE"
      },
      "source": [
        "# Sample Dataset "
      ]
    },
    {
      "cell_type": "markdown",
      "source": [
        "## Load Dataset"
      ],
      "metadata": {
        "id": "OyI5k7VrQAQF"
      }
    },
    {
      "cell_type": "code",
      "metadata": {
        "colab": {
          "base_uri": "https://localhost:8080/"
        },
        "outputId": "5adf5d67-a9fe-4e89-93b0-5a61ff777102",
        "id": "0rRsbD1oQAQG"
      },
      "source": [
        "mean = [0, 0]\n",
        "cov = [[1, 0.5], [0.5, 2]] #[[1, 0], [0, 1]]\n",
        "first_class_data = np.random.multivariate_normal(mean, cov, 500)\n",
        "first_class_data = np.c_[first_class_data, np.ones(first_class_data.shape[0])]\n",
        "plt.plot(first_class_data[:, 0], first_class_data[:, 1], '.')\n",
        "plt.axis('equal')\n",
        "\n",
        "mean = [3, 3]\n",
        "cov = [[2, -1], [-1, 1]] #[[1, 0], [0, 1]]\n",
        "second_class_data = np.random.multivariate_normal(mean, cov, 500)\n",
        "second_class_data = np.c_[second_class_data, np.ones(second_class_data.shape[0]) * 2]\n",
        "plt.plot(second_class_data[:, 0], second_class_data[:, 1], '.')\n",
        "plt.axis('equal')\n",
        "\n",
        "dataset = pd.DataFrame(np.concatenate((first_class_data, second_class_data)))\n",
        "dataset.columns = ['Feature 1', 'Feature 2', 'Class']\n",
        "dataset.head()"
      ],
      "execution_count": null,
      "outputs": [
        {
          "output_type": "execute_result",
          "data": {
            "text/html": [
              "\n",
              "  <div id=\"df-b979ffce-fe27-4b82-9520-28839d1c9e0d\">\n",
              "    <div class=\"colab-df-container\">\n",
              "      <div>\n",
              "<style scoped>\n",
              "    .dataframe tbody tr th:only-of-type {\n",
              "        vertical-align: middle;\n",
              "    }\n",
              "\n",
              "    .dataframe tbody tr th {\n",
              "        vertical-align: top;\n",
              "    }\n",
              "\n",
              "    .dataframe thead th {\n",
              "        text-align: right;\n",
              "    }\n",
              "</style>\n",
              "<table border=\"1\" class=\"dataframe\">\n",
              "  <thead>\n",
              "    <tr style=\"text-align: right;\">\n",
              "      <th></th>\n",
              "      <th>Feature 1</th>\n",
              "      <th>Feature 2</th>\n",
              "      <th>Class</th>\n",
              "    </tr>\n",
              "  </thead>\n",
              "  <tbody>\n",
              "    <tr>\n",
              "      <th>0</th>\n",
              "      <td>0.463469</td>\n",
              "      <td>-1.821283</td>\n",
              "      <td>1.0</td>\n",
              "    </tr>\n",
              "    <tr>\n",
              "      <th>1</th>\n",
              "      <td>0.278755</td>\n",
              "      <td>0.245065</td>\n",
              "      <td>1.0</td>\n",
              "    </tr>\n",
              "    <tr>\n",
              "      <th>2</th>\n",
              "      <td>0.135676</td>\n",
              "      <td>0.697622</td>\n",
              "      <td>1.0</td>\n",
              "    </tr>\n",
              "    <tr>\n",
              "      <th>3</th>\n",
              "      <td>0.217432</td>\n",
              "      <td>-1.380316</td>\n",
              "      <td>1.0</td>\n",
              "    </tr>\n",
              "    <tr>\n",
              "      <th>4</th>\n",
              "      <td>-0.551252</td>\n",
              "      <td>-0.208773</td>\n",
              "      <td>1.0</td>\n",
              "    </tr>\n",
              "  </tbody>\n",
              "</table>\n",
              "</div>\n",
              "      <button class=\"colab-df-convert\" onclick=\"convertToInteractive('df-b979ffce-fe27-4b82-9520-28839d1c9e0d')\"\n",
              "              title=\"Convert this dataframe to an interactive table.\"\n",
              "              style=\"display:none;\">\n",
              "        \n",
              "  <svg xmlns=\"http://www.w3.org/2000/svg\" height=\"24px\"viewBox=\"0 0 24 24\"\n",
              "       width=\"24px\">\n",
              "    <path d=\"M0 0h24v24H0V0z\" fill=\"none\"/>\n",
              "    <path d=\"M18.56 5.44l.94 2.06.94-2.06 2.06-.94-2.06-.94-.94-2.06-.94 2.06-2.06.94zm-11 1L8.5 8.5l.94-2.06 2.06-.94-2.06-.94L8.5 2.5l-.94 2.06-2.06.94zm10 10l.94 2.06.94-2.06 2.06-.94-2.06-.94-.94-2.06-.94 2.06-2.06.94z\"/><path d=\"M17.41 7.96l-1.37-1.37c-.4-.4-.92-.59-1.43-.59-.52 0-1.04.2-1.43.59L10.3 9.45l-7.72 7.72c-.78.78-.78 2.05 0 2.83L4 21.41c.39.39.9.59 1.41.59.51 0 1.02-.2 1.41-.59l7.78-7.78 2.81-2.81c.8-.78.8-2.07 0-2.86zM5.41 20L4 18.59l7.72-7.72 1.47 1.35L5.41 20z\"/>\n",
              "  </svg>\n",
              "      </button>\n",
              "      \n",
              "  <style>\n",
              "    .colab-df-container {\n",
              "      display:flex;\n",
              "      flex-wrap:wrap;\n",
              "      gap: 12px;\n",
              "    }\n",
              "\n",
              "    .colab-df-convert {\n",
              "      background-color: #E8F0FE;\n",
              "      border: none;\n",
              "      border-radius: 50%;\n",
              "      cursor: pointer;\n",
              "      display: none;\n",
              "      fill: #1967D2;\n",
              "      height: 32px;\n",
              "      padding: 0 0 0 0;\n",
              "      width: 32px;\n",
              "    }\n",
              "\n",
              "    .colab-df-convert:hover {\n",
              "      background-color: #E2EBFA;\n",
              "      box-shadow: 0px 1px 2px rgba(60, 64, 67, 0.3), 0px 1px 3px 1px rgba(60, 64, 67, 0.15);\n",
              "      fill: #174EA6;\n",
              "    }\n",
              "\n",
              "    [theme=dark] .colab-df-convert {\n",
              "      background-color: #3B4455;\n",
              "      fill: #D2E3FC;\n",
              "    }\n",
              "\n",
              "    [theme=dark] .colab-df-convert:hover {\n",
              "      background-color: #434B5C;\n",
              "      box-shadow: 0px 1px 3px 1px rgba(0, 0, 0, 0.15);\n",
              "      filter: drop-shadow(0px 1px 2px rgba(0, 0, 0, 0.3));\n",
              "      fill: #FFFFFF;\n",
              "    }\n",
              "  </style>\n",
              "\n",
              "      <script>\n",
              "        const buttonEl =\n",
              "          document.querySelector('#df-b979ffce-fe27-4b82-9520-28839d1c9e0d button.colab-df-convert');\n",
              "        buttonEl.style.display =\n",
              "          google.colab.kernel.accessAllowed ? 'block' : 'none';\n",
              "\n",
              "        async function convertToInteractive(key) {\n",
              "          const element = document.querySelector('#df-b979ffce-fe27-4b82-9520-28839d1c9e0d');\n",
              "          const dataTable =\n",
              "            await google.colab.kernel.invokeFunction('convertToInteractive',\n",
              "                                                     [key], {});\n",
              "          if (!dataTable) return;\n",
              "\n",
              "          const docLinkHtml = 'Like what you see? Visit the ' +\n",
              "            '<a target=\"_blank\" href=https://colab.research.google.com/notebooks/data_table.ipynb>data table notebook</a>'\n",
              "            + ' to learn more about interactive tables.';\n",
              "          element.innerHTML = '';\n",
              "          dataTable['output_type'] = 'display_data';\n",
              "          await google.colab.output.renderOutput(dataTable, element);\n",
              "          const docLink = document.createElement('div');\n",
              "          docLink.innerHTML = docLinkHtml;\n",
              "          element.appendChild(docLink);\n",
              "        }\n",
              "      </script>\n",
              "    </div>\n",
              "  </div>\n",
              "  "
            ],
            "text/plain": [
              "   Feature 1  Feature 2  Class\n",
              "0   0.463469  -1.821283    1.0\n",
              "1   0.278755   0.245065    1.0\n",
              "2   0.135676   0.697622    1.0\n",
              "3   0.217432  -1.380316    1.0\n",
              "4  -0.551252  -0.208773    1.0"
            ]
          },
          "metadata": {},
          "execution_count": 18
        },
        {
          "output_type": "display_data",
          "data": {
            "image/png": "[encoded data removed]",
            "text/plain": [
              "<Figure size 432x288 with 1 Axes>"
            ]
          },
          "metadata": {
            "needs_background": "light"
          }
        }
      ]
    },
    {
      "cell_type": "markdown",
      "source": [
        "## Classification With Minimum Euclidean Distance"
      ],
      "metadata": {
        "id": "vR737p-pQAQJ"
      }
    },
    {
      "cell_type": "code",
      "source": [
        "classified_labels = classify_with_minimum_euclidean_distance(dataset)"
      ],
      "metadata": {
        "id": "Xap5IxVYQAQL"
      },
      "execution_count": null,
      "outputs": []
    },
    {
      "cell_type": "markdown",
      "metadata": {
        "id": "tlBNTACnQAQM"
      },
      "source": [
        "### Minimum Euclidean Distance Confustion Matrix"
      ]
    },
    {
      "cell_type": "code",
      "metadata": {
        "colab": {
          "base_uri": "https://localhost:8080/"
        },
        "outputId": "a3028066-82e6-4a83-e21e-f02c8646e1f3",
        "id": "GoUFiX_pQAQN"
      },
      "source": [
        "confusion_matrix = get_confusion_matrix(dataset, classified_labels)\n",
        "print('Confusion Matrix: Rows is Classification Result and Columns is Reality')\n",
        "confusion_matrix"
      ],
      "execution_count": null,
      "outputs": [
        {
          "output_type": "stream",
          "name": "stdout",
          "text": [
            "Confusion Matrix: Rows is Classification Result and Columns is Reality\n"
          ]
        },
        {
          "output_type": "execute_result",
          "data": {
            "text/html": [
              "\n",
              "  <div id=\"df-b66f24da-b4fa-49f4-919a-3f1d87b18c37\">\n",
              "    <div class=\"colab-df-container\">\n",
              "      <div>\n",
              "<style scoped>\n",
              "    .dataframe tbody tr th:only-of-type {\n",
              "        vertical-align: middle;\n",
              "    }\n",
              "\n",
              "    .dataframe tbody tr th {\n",
              "        vertical-align: top;\n",
              "    }\n",
              "\n",
              "    .dataframe thead th {\n",
              "        text-align: right;\n",
              "    }\n",
              "</style>\n",
              "<table border=\"1\" class=\"dataframe\">\n",
              "  <thead>\n",
              "    <tr style=\"text-align: right;\">\n",
              "      <th></th>\n",
              "      <th>1</th>\n",
              "      <th>2</th>\n",
              "    </tr>\n",
              "  </thead>\n",
              "  <tbody>\n",
              "    <tr>\n",
              "      <th>1</th>\n",
              "      <td>468</td>\n",
              "      <td>0</td>\n",
              "    </tr>\n",
              "    <tr>\n",
              "      <th>2</th>\n",
              "      <td>32</td>\n",
              "      <td>500</td>\n",
              "    </tr>\n",
              "  </tbody>\n",
              "</table>\n",
              "</div>\n",
              "      <button class=\"colab-df-convert\" onclick=\"convertToInteractive('df-b66f24da-b4fa-49f4-919a-3f1d87b18c37')\"\n",
              "              title=\"Convert this dataframe to an interactive table.\"\n",
              "              style=\"display:none;\">\n",
              "        \n",
              "  <svg xmlns=\"http://www.w3.org/2000/svg\" height=\"24px\"viewBox=\"0 0 24 24\"\n",
              "       width=\"24px\">\n",
              "    <path d=\"M0 0h24v24H0V0z\" fill=\"none\"/>\n",
              "    <path d=\"M18.56 5.44l.94 2.06.94-2.06 2.06-.94-2.06-.94-.94-2.06-.94 2.06-2.06.94zm-11 1L8.5 8.5l.94-2.06 2.06-.94-2.06-.94L8.5 2.5l-.94 2.06-2.06.94zm10 10l.94 2.06.94-2.06 2.06-.94-2.06-.94-.94-2.06-.94 2.06-2.06.94z\"/><path d=\"M17.41 7.96l-1.37-1.37c-.4-.4-.92-.59-1.43-.59-.52 0-1.04.2-1.43.59L10.3 9.45l-7.72 7.72c-.78.78-.78 2.05 0 2.83L4 21.41c.39.39.9.59 1.41.59.51 0 1.02-.2 1.41-.59l7.78-7.78 2.81-2.81c.8-.78.8-2.07 0-2.86zM5.41 20L4 18.59l7.72-7.72 1.47 1.35L5.41 20z\"/>\n",
              "  </svg>\n",
              "      </button>\n",
              "      \n",
              "  <style>\n",
              "    .colab-df-container {\n",
              "      display:flex;\n",
              "      flex-wrap:wrap;\n",
              "      gap: 12px;\n",
              "    }\n",
              "\n",
              "    .colab-df-convert {\n",
              "      background-color: #E8F0FE;\n",
              "      border: none;\n",
              "      border-radius: 50%;\n",
              "      cursor: pointer;\n",
              "      display: none;\n",
              "      fill: #1967D2;\n",
              "      height: 32px;\n",
              "      padding: 0 0 0 0;\n",
              "      width: 32px;\n",
              "    }\n",
              "\n",
              "    .colab-df-convert:hover {\n",
              "      background-color: #E2EBFA;\n",
              "      box-shadow: 0px 1px 2px rgba(60, 64, 67, 0.3), 0px 1px 3px 1px rgba(60, 64, 67, 0.15);\n",
              "      fill: #174EA6;\n",
              "    }\n",
              "\n",
              "    [theme=dark] .colab-df-convert {\n",
              "      background-color: #3B4455;\n",
              "      fill: #D2E3FC;\n",
              "    }\n",
              "\n",
              "    [theme=dark] .colab-df-convert:hover {\n",
              "      background-color: #434B5C;\n",
              "      box-shadow: 0px 1px 3px 1px rgba(0, 0, 0, 0.15);\n",
              "      filter: drop-shadow(0px 1px 2px rgba(0, 0, 0, 0.3));\n",
              "      fill: #FFFFFF;\n",
              "    }\n",
              "  </style>\n",
              "\n",
              "      <script>\n",
              "        const buttonEl =\n",
              "          document.querySelector('#df-b66f24da-b4fa-49f4-919a-3f1d87b18c37 button.colab-df-convert');\n",
              "        buttonEl.style.display =\n",
              "          google.colab.kernel.accessAllowed ? 'block' : 'none';\n",
              "\n",
              "        async function convertToInteractive(key) {\n",
              "          const element = document.querySelector('#df-b66f24da-b4fa-49f4-919a-3f1d87b18c37');\n",
              "          const dataTable =\n",
              "            await google.colab.kernel.invokeFunction('convertToInteractive',\n",
              "                                                     [key], {});\n",
              "          if (!dataTable) return;\n",
              "\n",
              "          const docLinkHtml = 'Like what you see? Visit the ' +\n",
              "            '<a target=\"_blank\" href=https://colab.research.google.com/notebooks/data_table.ipynb>data table notebook</a>'\n",
              "            + ' to learn more about interactive tables.';\n",
              "          element.innerHTML = '';\n",
              "          dataTable['output_type'] = 'display_data';\n",
              "          await google.colab.output.renderOutput(dataTable, element);\n",
              "          const docLink = document.createElement('div');\n",
              "          docLink.innerHTML = docLinkHtml;\n",
              "          element.appendChild(docLink);\n",
              "        }\n",
              "      </script>\n",
              "    </div>\n",
              "  </div>\n",
              "  "
            ],
            "text/plain": [
              "     1    2\n",
              "1  468    0\n",
              "2   32  500"
            ]
          },
          "metadata": {},
          "execution_count": 20
        }
      ]
    },
    {
      "cell_type": "markdown",
      "metadata": {
        "id": "tEgV8aleQAQO"
      },
      "source": [
        "### Minimum Euclidean Distance Evaluation"
      ]
    },
    {
      "cell_type": "code",
      "metadata": {
        "id": "MO7642pPQAQP"
      },
      "source": [
        "accuracy = {}\n",
        "accuracy['Minimum Euclidean Distance'] = evaluate_classifier(dataset, confusion_matrix)"
      ],
      "execution_count": null,
      "outputs": []
    },
    {
      "cell_type": "markdown",
      "source": [
        "## Classification With Minimum Mahalanobis Distance"
      ],
      "metadata": {
        "id": "Xh8BLRDpQAQQ"
      }
    },
    {
      "cell_type": "code",
      "source": [
        "classified_labels = classify_with_minimum_mahalanobis_distance(dataset)"
      ],
      "metadata": {
        "id": "4ORzCZ62QAQS"
      },
      "execution_count": null,
      "outputs": []
    },
    {
      "cell_type": "markdown",
      "metadata": {
        "id": "ODaIb9AxQAQT"
      },
      "source": [
        "### Minimum Mahalanobis Distance Confustion Matrix"
      ]
    },
    {
      "cell_type": "code",
      "metadata": {
        "colab": {
          "base_uri": "https://localhost:8080/"
        },
        "outputId": "f5557258-f423-44eb-ab43-3eb43813c725",
        "id": "SPyzrRHkQAQT"
      },
      "source": [
        "confusion_matrix = get_confusion_matrix(dataset, classified_labels)\n",
        "print('Confusion Matrix: Rows is Classification Result and Columns is Reality')\n",
        "confusion_matrix"
      ],
      "execution_count": null,
      "outputs": [
        {
          "output_type": "stream",
          "name": "stdout",
          "text": [
            "Confusion Matrix: Rows is Classification Result and Columns is Reality\n"
          ]
        },
        {
          "output_type": "execute_result",
          "data": {
            "text/html": [
              "\n",
              "  <div id=\"df-3e9cc3a6-3091-4d3d-94da-4a92fa6df115\">\n",
              "    <div class=\"colab-df-container\">\n",
              "      <div>\n",
              "<style scoped>\n",
              "    .dataframe tbody tr th:only-of-type {\n",
              "        vertical-align: middle;\n",
              "    }\n",
              "\n",
              "    .dataframe tbody tr th {\n",
              "        vertical-align: top;\n",
              "    }\n",
              "\n",
              "    .dataframe thead th {\n",
              "        text-align: right;\n",
              "    }\n",
              "</style>\n",
              "<table border=\"1\" class=\"dataframe\">\n",
              "  <thead>\n",
              "    <tr style=\"text-align: right;\">\n",
              "      <th></th>\n",
              "      <th>1</th>\n",
              "      <th>2</th>\n",
              "    </tr>\n",
              "  </thead>\n",
              "  <tbody>\n",
              "    <tr>\n",
              "      <th>1</th>\n",
              "      <td>488</td>\n",
              "      <td>3</td>\n",
              "    </tr>\n",
              "    <tr>\n",
              "      <th>2</th>\n",
              "      <td>12</td>\n",
              "      <td>497</td>\n",
              "    </tr>\n",
              "  </tbody>\n",
              "</table>\n",
              "</div>\n",
              "      <button class=\"colab-df-convert\" onclick=\"convertToInteractive('df-3e9cc3a6-3091-4d3d-94da-4a92fa6df115')\"\n",
              "              title=\"Convert this dataframe to an interactive table.\"\n",
              "              style=\"display:none;\">\n",
              "        \n",
              "  <svg xmlns=\"http://www.w3.org/2000/svg\" height=\"24px\"viewBox=\"0 0 24 24\"\n",
              "       width=\"24px\">\n",
              "    <path d=\"M0 0h24v24H0V0z\" fill=\"none\"/>\n",
              "    <path d=\"M18.56 5.44l.94 2.06.94-2.06 2.06-.94-2.06-.94-.94-2.06-.94 2.06-2.06.94zm-11 1L8.5 8.5l.94-2.06 2.06-.94-2.06-.94L8.5 2.5l-.94 2.06-2.06.94zm10 10l.94 2.06.94-2.06 2.06-.94-2.06-.94-.94-2.06-.94 2.06-2.06.94z\"/><path d=\"M17.41 7.96l-1.37-1.37c-.4-.4-.92-.59-1.43-.59-.52 0-1.04.2-1.43.59L10.3 9.45l-7.72 7.72c-.78.78-.78 2.05 0 2.83L4 21.41c.39.39.9.59 1.41.59.51 0 1.02-.2 1.41-.59l7.78-7.78 2.81-2.81c.8-.78.8-2.07 0-2.86zM5.41 20L4 18.59l7.72-7.72 1.47 1.35L5.41 20z\"/>\n",
              "  </svg>\n",
              "      </button>\n",
              "      \n",
              "  <style>\n",
              "    .colab-df-container {\n",
              "      display:flex;\n",
              "      flex-wrap:wrap;\n",
              "      gap: 12px;\n",
              "    }\n",
              "\n",
              "    .colab-df-convert {\n",
              "      background-color: #E8F0FE;\n",
              "      border: none;\n",
              "      border-radius: 50%;\n",
              "      cursor: pointer;\n",
              "      display: none;\n",
              "      fill: #1967D2;\n",
              "      height: 32px;\n",
              "      padding: 0 0 0 0;\n",
              "      width: 32px;\n",
              "    }\n",
              "\n",
              "    .colab-df-convert:hover {\n",
              "      background-color: #E2EBFA;\n",
              "      box-shadow: 0px 1px 2px rgba(60, 64, 67, 0.3), 0px 1px 3px 1px rgba(60, 64, 67, 0.15);\n",
              "      fill: #174EA6;\n",
              "    }\n",
              "\n",
              "    [theme=dark] .colab-df-convert {\n",
              "      background-color: #3B4455;\n",
              "      fill: #D2E3FC;\n",
              "    }\n",
              "\n",
              "    [theme=dark] .colab-df-convert:hover {\n",
              "      background-color: #434B5C;\n",
              "      box-shadow: 0px 1px 3px 1px rgba(0, 0, 0, 0.15);\n",
              "      filter: drop-shadow(0px 1px 2px rgba(0, 0, 0, 0.3));\n",
              "      fill: #FFFFFF;\n",
              "    }\n",
              "  </style>\n",
              "\n",
              "      <script>\n",
              "        const buttonEl =\n",
              "          document.querySelector('#df-3e9cc3a6-3091-4d3d-94da-4a92fa6df115 button.colab-df-convert');\n",
              "        buttonEl.style.display =\n",
              "          google.colab.kernel.accessAllowed ? 'block' : 'none';\n",
              "\n",
              "        async function convertToInteractive(key) {\n",
              "          const element = document.querySelector('#df-3e9cc3a6-3091-4d3d-94da-4a92fa6df115');\n",
              "          const dataTable =\n",
              "            await google.colab.kernel.invokeFunction('convertToInteractive',\n",
              "                                                     [key], {});\n",
              "          if (!dataTable) return;\n",
              "\n",
              "          const docLinkHtml = 'Like what you see? Visit the ' +\n",
              "            '<a target=\"_blank\" href=https://colab.research.google.com/notebooks/data_table.ipynb>data table notebook</a>'\n",
              "            + ' to learn more about interactive tables.';\n",
              "          element.innerHTML = '';\n",
              "          dataTable['output_type'] = 'display_data';\n",
              "          await google.colab.output.renderOutput(dataTable, element);\n",
              "          const docLink = document.createElement('div');\n",
              "          docLink.innerHTML = docLinkHtml;\n",
              "          element.appendChild(docLink);\n",
              "        }\n",
              "      </script>\n",
              "    </div>\n",
              "  </div>\n",
              "  "
            ],
            "text/plain": [
              "     1    2\n",
              "1  488    3\n",
              "2   12  497"
            ]
          },
          "metadata": {},
          "execution_count": 23
        }
      ]
    },
    {
      "cell_type": "markdown",
      "metadata": {
        "id": "3VvMhU_FQAQU"
      },
      "source": [
        "### Minimum Mahalanobis Distance Evaluation"
      ]
    },
    {
      "cell_type": "code",
      "metadata": {
        "id": "lYyJRHBMQAQU"
      },
      "source": [
        "accuracy['Minimum Mahalanobis Distance'] = evaluate_classifier(dataset, confusion_matrix)"
      ],
      "execution_count": null,
      "outputs": []
    },
    {
      "cell_type": "markdown",
      "metadata": {
        "id": "K8bV6VY6QAQV"
      },
      "source": [
        "## Classification With Maximum Likelihood"
      ]
    },
    {
      "cell_type": "code",
      "metadata": {
        "id": "li9c6WOLQAQW"
      },
      "source": [
        "classified_labels = classify_with_maximum_liklihood(dataset)"
      ],
      "execution_count": null,
      "outputs": []
    },
    {
      "cell_type": "markdown",
      "metadata": {
        "id": "Rq5i5bCWQAQX"
      },
      "source": [
        "### Maximum Likelihood Confustion Matrix"
      ]
    },
    {
      "cell_type": "code",
      "metadata": {
        "colab": {
          "base_uri": "https://localhost:8080/"
        },
        "outputId": "f093c11e-5eaa-4a70-b26a-45b3311ce3ae",
        "id": "Z3Kl4W7AQAQY"
      },
      "source": [
        "confusion_matrix = get_confusion_matrix(dataset, classified_labels)\n",
        "print('Confusion Matrix: Rows is Classification Result and Columns is Reality')\n",
        "confusion_matrix"
      ],
      "execution_count": null,
      "outputs": [
        {
          "output_type": "stream",
          "name": "stdout",
          "text": [
            "Confusion Matrix: Rows is Classification Result and Columns is Reality\n"
          ]
        },
        {
          "output_type": "execute_result",
          "data": {
            "text/html": [
              "\n",
              "  <div id=\"df-e56b7fe0-01bc-465b-a50b-a5fa0b6cd006\">\n",
              "    <div class=\"colab-df-container\">\n",
              "      <div>\n",
              "<style scoped>\n",
              "    .dataframe tbody tr th:only-of-type {\n",
              "        vertical-align: middle;\n",
              "    }\n",
              "\n",
              "    .dataframe tbody tr th {\n",
              "        vertical-align: top;\n",
              "    }\n",
              "\n",
              "    .dataframe thead th {\n",
              "        text-align: right;\n",
              "    }\n",
              "</style>\n",
              "<table border=\"1\" class=\"dataframe\">\n",
              "  <thead>\n",
              "    <tr style=\"text-align: right;\">\n",
              "      <th></th>\n",
              "      <th>1</th>\n",
              "      <th>2</th>\n",
              "    </tr>\n",
              "  </thead>\n",
              "  <tbody>\n",
              "    <tr>\n",
              "      <th>1</th>\n",
              "      <td>484</td>\n",
              "      <td>3</td>\n",
              "    </tr>\n",
              "    <tr>\n",
              "      <th>2</th>\n",
              "      <td>16</td>\n",
              "      <td>497</td>\n",
              "    </tr>\n",
              "  </tbody>\n",
              "</table>\n",
              "</div>\n",
              "      <button class=\"colab-df-convert\" onclick=\"convertToInteractive('df-e56b7fe0-01bc-465b-a50b-a5fa0b6cd006')\"\n",
              "              title=\"Convert this dataframe to an interactive table.\"\n",
              "              style=\"display:none;\">\n",
              "        \n",
              "  <svg xmlns=\"http://www.w3.org/2000/svg\" height=\"24px\"viewBox=\"0 0 24 24\"\n",
              "       width=\"24px\">\n",
              "    <path d=\"M0 0h24v24H0V0z\" fill=\"none\"/>\n",
              "    <path d=\"M18.56 5.44l.94 2.06.94-2.06 2.06-.94-2.06-.94-.94-2.06-.94 2.06-2.06.94zm-11 1L8.5 8.5l.94-2.06 2.06-.94-2.06-.94L8.5 2.5l-.94 2.06-2.06.94zm10 10l.94 2.06.94-2.06 2.06-.94-2.06-.94-.94-2.06-.94 2.06-2.06.94z\"/><path d=\"M17.41 7.96l-1.37-1.37c-.4-.4-.92-.59-1.43-.59-.52 0-1.04.2-1.43.59L10.3 9.45l-7.72 7.72c-.78.78-.78 2.05 0 2.83L4 21.41c.39.39.9.59 1.41.59.51 0 1.02-.2 1.41-.59l7.78-7.78 2.81-2.81c.8-.78.8-2.07 0-2.86zM5.41 20L4 18.59l7.72-7.72 1.47 1.35L5.41 20z\"/>\n",
              "  </svg>\n",
              "      </button>\n",
              "      \n",
              "  <style>\n",
              "    .colab-df-container {\n",
              "      display:flex;\n",
              "      flex-wrap:wrap;\n",
              "      gap: 12px;\n",
              "    }\n",
              "\n",
              "    .colab-df-convert {\n",
              "      background-color: #E8F0FE;\n",
              "      border: none;\n",
              "      border-radius: 50%;\n",
              "      cursor: pointer;\n",
              "      display: none;\n",
              "      fill: #1967D2;\n",
              "      height: 32px;\n",
              "      padding: 0 0 0 0;\n",
              "      width: 32px;\n",
              "    }\n",
              "\n",
              "    .colab-df-convert:hover {\n",
              "      background-color: #E2EBFA;\n",
              "      box-shadow: 0px 1px 2px rgba(60, 64, 67, 0.3), 0px 1px 3px 1px rgba(60, 64, 67, 0.15);\n",
              "      fill: #174EA6;\n",
              "    }\n",
              "\n",
              "    [theme=dark] .colab-df-convert {\n",
              "      background-color: #3B4455;\n",
              "      fill: #D2E3FC;\n",
              "    }\n",
              "\n",
              "    [theme=dark] .colab-df-convert:hover {\n",
              "      background-color: #434B5C;\n",
              "      box-shadow: 0px 1px 3px 1px rgba(0, 0, 0, 0.15);\n",
              "      filter: drop-shadow(0px 1px 2px rgba(0, 0, 0, 0.3));\n",
              "      fill: #FFFFFF;\n",
              "    }\n",
              "  </style>\n",
              "\n",
              "      <script>\n",
              "        const buttonEl =\n",
              "          document.querySelector('#df-e56b7fe0-01bc-465b-a50b-a5fa0b6cd006 button.colab-df-convert');\n",
              "        buttonEl.style.display =\n",
              "          google.colab.kernel.accessAllowed ? 'block' : 'none';\n",
              "\n",
              "        async function convertToInteractive(key) {\n",
              "          const element = document.querySelector('#df-e56b7fe0-01bc-465b-a50b-a5fa0b6cd006');\n",
              "          const dataTable =\n",
              "            await google.colab.kernel.invokeFunction('convertToInteractive',\n",
              "                                                     [key], {});\n",
              "          if (!dataTable) return;\n",
              "\n",
              "          const docLinkHtml = 'Like what you see? Visit the ' +\n",
              "            '<a target=\"_blank\" href=https://colab.research.google.com/notebooks/data_table.ipynb>data table notebook</a>'\n",
              "            + ' to learn more about interactive tables.';\n",
              "          element.innerHTML = '';\n",
              "          dataTable['output_type'] = 'display_data';\n",
              "          await google.colab.output.renderOutput(dataTable, element);\n",
              "          const docLink = document.createElement('div');\n",
              "          docLink.innerHTML = docLinkHtml;\n",
              "          element.appendChild(docLink);\n",
              "        }\n",
              "      </script>\n",
              "    </div>\n",
              "  </div>\n",
              "  "
            ],
            "text/plain": [
              "     1    2\n",
              "1  484    3\n",
              "2   16  497"
            ]
          },
          "metadata": {},
          "execution_count": 26
        }
      ]
    },
    {
      "cell_type": "markdown",
      "metadata": {
        "id": "7tXvN9qiQAQZ"
      },
      "source": [
        "### Maximum Likelihood Evaluation"
      ]
    },
    {
      "cell_type": "code",
      "metadata": {
        "id": "EL66_ruQQAQb"
      },
      "source": [
        "accuracy['Maximum Likelihood'] = evaluate_classifier(dataset, confusion_matrix)"
      ],
      "execution_count": null,
      "outputs": []
    },
    {
      "cell_type": "markdown",
      "metadata": {
        "id": "uKwyCLM2QAQb"
      },
      "source": [
        "## Classification With Maximum A Posterior"
      ]
    },
    {
      "cell_type": "code",
      "metadata": {
        "id": "43jm0dlgQAQc"
      },
      "source": [
        "classified_labels = classify_with_maximum_a_posterior(dataset)"
      ],
      "execution_count": null,
      "outputs": []
    },
    {
      "cell_type": "markdown",
      "metadata": {
        "id": "Q9YaS-Z1QAQd"
      },
      "source": [
        "### Maximum A Posterior Confustion Matrix"
      ]
    },
    {
      "cell_type": "code",
      "metadata": {
        "colab": {
          "base_uri": "https://localhost:8080/"
        },
        "outputId": "f58e16d0-fca7-4036-c04f-69a925494753",
        "id": "zP4Ja3uIQAQd"
      },
      "source": [
        "confusion_matrix = get_confusion_matrix(dataset, classified_labels)\n",
        "print('Confusion Matrix: Rows is Classification Result and Columns is Reality')\n",
        "confusion_matrix"
      ],
      "execution_count": null,
      "outputs": [
        {
          "output_type": "stream",
          "name": "stdout",
          "text": [
            "Confusion Matrix: Rows is Classification Result and Columns is Reality\n"
          ]
        },
        {
          "output_type": "execute_result",
          "data": {
            "text/html": [
              "\n",
              "  <div id=\"df-67336542-178d-4d35-b6e3-a8f58eb756c9\">\n",
              "    <div class=\"colab-df-container\">\n",
              "      <div>\n",
              "<style scoped>\n",
              "    .dataframe tbody tr th:only-of-type {\n",
              "        vertical-align: middle;\n",
              "    }\n",
              "\n",
              "    .dataframe tbody tr th {\n",
              "        vertical-align: top;\n",
              "    }\n",
              "\n",
              "    .dataframe thead th {\n",
              "        text-align: right;\n",
              "    }\n",
              "</style>\n",
              "<table border=\"1\" class=\"dataframe\">\n",
              "  <thead>\n",
              "    <tr style=\"text-align: right;\">\n",
              "      <th></th>\n",
              "      <th>1</th>\n",
              "      <th>2</th>\n",
              "    </tr>\n",
              "  </thead>\n",
              "  <tbody>\n",
              "    <tr>\n",
              "      <th>1</th>\n",
              "      <td>484</td>\n",
              "      <td>3</td>\n",
              "    </tr>\n",
              "    <tr>\n",
              "      <th>2</th>\n",
              "      <td>16</td>\n",
              "      <td>497</td>\n",
              "    </tr>\n",
              "  </tbody>\n",
              "</table>\n",
              "</div>\n",
              "      <button class=\"colab-df-convert\" onclick=\"convertToInteractive('df-67336542-178d-4d35-b6e3-a8f58eb756c9')\"\n",
              "              title=\"Convert this dataframe to an interactive table.\"\n",
              "              style=\"display:none;\">\n",
              "        \n",
              "  <svg xmlns=\"http://www.w3.org/2000/svg\" height=\"24px\"viewBox=\"0 0 24 24\"\n",
              "       width=\"24px\">\n",
              "    <path d=\"M0 0h24v24H0V0z\" fill=\"none\"/>\n",
              "    <path d=\"M18.56 5.44l.94 2.06.94-2.06 2.06-.94-2.06-.94-.94-2.06-.94 2.06-2.06.94zm-11 1L8.5 8.5l.94-2.06 2.06-.94-2.06-.94L8.5 2.5l-.94 2.06-2.06.94zm10 10l.94 2.06.94-2.06 2.06-.94-2.06-.94-.94-2.06-.94 2.06-2.06.94z\"/><path d=\"M17.41 7.96l-1.37-1.37c-.4-.4-.92-.59-1.43-.59-.52 0-1.04.2-1.43.59L10.3 9.45l-7.72 7.72c-.78.78-.78 2.05 0 2.83L4 21.41c.39.39.9.59 1.41.59.51 0 1.02-.2 1.41-.59l7.78-7.78 2.81-2.81c.8-.78.8-2.07 0-2.86zM5.41 20L4 18.59l7.72-7.72 1.47 1.35L5.41 20z\"/>\n",
              "  </svg>\n",
              "      </button>\n",
              "      \n",
              "  <style>\n",
              "    .colab-df-container {\n",
              "      display:flex;\n",
              "      flex-wrap:wrap;\n",
              "      gap: 12px;\n",
              "    }\n",
              "\n",
              "    .colab-df-convert {\n",
              "      background-color: #E8F0FE;\n",
              "      border: none;\n",
              "      border-radius: 50%;\n",
              "      cursor: pointer;\n",
              "      display: none;\n",
              "      fill: #1967D2;\n",
              "      height: 32px;\n",
              "      padding: 0 0 0 0;\n",
              "      width: 32px;\n",
              "    }\n",
              "\n",
              "    .colab-df-convert:hover {\n",
              "      background-color: #E2EBFA;\n",
              "      box-shadow: 0px 1px 2px rgba(60, 64, 67, 0.3), 0px 1px 3px 1px rgba(60, 64, 67, 0.15);\n",
              "      fill: #174EA6;\n",
              "    }\n",
              "\n",
              "    [theme=dark] .colab-df-convert {\n",
              "      background-color: #3B4455;\n",
              "      fill: #D2E3FC;\n",
              "    }\n",
              "\n",
              "    [theme=dark] .colab-df-convert:hover {\n",
              "      background-color: #434B5C;\n",
              "      box-shadow: 0px 1px 3px 1px rgba(0, 0, 0, 0.15);\n",
              "      filter: drop-shadow(0px 1px 2px rgba(0, 0, 0, 0.3));\n",
              "      fill: #FFFFFF;\n",
              "    }\n",
              "  </style>\n",
              "\n",
              "      <script>\n",
              "        const buttonEl =\n",
              "          document.querySelector('#df-67336542-178d-4d35-b6e3-a8f58eb756c9 button.colab-df-convert');\n",
              "        buttonEl.style.display =\n",
              "          google.colab.kernel.accessAllowed ? 'block' : 'none';\n",
              "\n",
              "        async function convertToInteractive(key) {\n",
              "          const element = document.querySelector('#df-67336542-178d-4d35-b6e3-a8f58eb756c9');\n",
              "          const dataTable =\n",
              "            await google.colab.kernel.invokeFunction('convertToInteractive',\n",
              "                                                     [key], {});\n",
              "          if (!dataTable) return;\n",
              "\n",
              "          const docLinkHtml = 'Like what you see? Visit the ' +\n",
              "            '<a target=\"_blank\" href=https://colab.research.google.com/notebooks/data_table.ipynb>data table notebook</a>'\n",
              "            + ' to learn more about interactive tables.';\n",
              "          element.innerHTML = '';\n",
              "          dataTable['output_type'] = 'display_data';\n",
              "          await google.colab.output.renderOutput(dataTable, element);\n",
              "          const docLink = document.createElement('div');\n",
              "          docLink.innerHTML = docLinkHtml;\n",
              "          element.appendChild(docLink);\n",
              "        }\n",
              "      </script>\n",
              "    </div>\n",
              "  </div>\n",
              "  "
            ],
            "text/plain": [
              "     1    2\n",
              "1  484    3\n",
              "2   16  497"
            ]
          },
          "metadata": {},
          "execution_count": 29
        }
      ]
    },
    {
      "cell_type": "markdown",
      "metadata": {
        "id": "kWrtFkZNQAQd"
      },
      "source": [
        "### Maximum A Posterior Evaluation"
      ]
    },
    {
      "cell_type": "code",
      "metadata": {
        "id": "l_eCfO2SQAQd"
      },
      "source": [
        "accuracy['Maximum A Posterior'] = evaluate_classifier(dataset, confusion_matrix)"
      ],
      "execution_count": null,
      "outputs": []
    },
    {
      "cell_type": "markdown",
      "source": [
        "## Evaluation"
      ],
      "metadata": {
        "id": "6WdQVlpkQAQe"
      }
    },
    {
      "cell_type": "code",
      "source": [
        "print_evaluation(dataset, accuracy)"
      ],
      "metadata": {
        "colab": {
          "base_uri": "https://localhost:8080/",
          "height": 175
        },
        "outputId": "f4220328-968e-47f7-cf1a-8eb615c06364",
        "id": "8ZHB-o-wQAQe"
      },
      "execution_count": null,
      "outputs": [
        {
          "output_type": "execute_result",
          "data": {
            "text/html": [
              "<style  type=\"text/css\" >\n",
              "</style><table id=\"T_7f1789ae_5fcf_11ec_85df_0242ac1c0002\" class=\"dataframe\"><thead>    <tr>        <th class=\"blank level0\" ></th>        <th class=\"col_heading level0 col0\" >Total Accuracy</th>        <th class=\"col_heading level0 col1\" >Accuracy Class 1</th>        <th class=\"col_heading level0 col2\" >Accuracy Class 2</th>    </tr></thead><tbody>\n",
              "                <tr>\n",
              "                        <th id=\"T_7f1789ae_5fcf_11ec_85df_0242ac1c0002level0_row0\" class=\"row_heading level0 row0\" >Minimum Euclidean Distance</th>\n",
              "                        <td id=\"T_7f1789ae_5fcf_11ec_85df_0242ac1c0002row0_col0\" class=\"data row0 col0\" >97%</td>\n",
              "                        <td id=\"T_7f1789ae_5fcf_11ec_85df_0242ac1c0002row0_col1\" class=\"data row0 col1\" >94%</td>\n",
              "                        <td id=\"T_7f1789ae_5fcf_11ec_85df_0242ac1c0002row0_col2\" class=\"data row0 col2\" >100%</td>\n",
              "            </tr>\n",
              "            <tr>\n",
              "                        <th id=\"T_7f1789ae_5fcf_11ec_85df_0242ac1c0002level0_row1\" class=\"row_heading level0 row1\" >Minimum Mahalanobis Distance</th>\n",
              "                        <td id=\"T_7f1789ae_5fcf_11ec_85df_0242ac1c0002row1_col0\" class=\"data row1 col0\" >98%</td>\n",
              "                        <td id=\"T_7f1789ae_5fcf_11ec_85df_0242ac1c0002row1_col1\" class=\"data row1 col1\" >98%</td>\n",
              "                        <td id=\"T_7f1789ae_5fcf_11ec_85df_0242ac1c0002row1_col2\" class=\"data row1 col2\" >99%</td>\n",
              "            </tr>\n",
              "            <tr>\n",
              "                        <th id=\"T_7f1789ae_5fcf_11ec_85df_0242ac1c0002level0_row2\" class=\"row_heading level0 row2\" >Maximum Likelihood</th>\n",
              "                        <td id=\"T_7f1789ae_5fcf_11ec_85df_0242ac1c0002row2_col0\" class=\"data row2 col0\" >98%</td>\n",
              "                        <td id=\"T_7f1789ae_5fcf_11ec_85df_0242ac1c0002row2_col1\" class=\"data row2 col1\" >97%</td>\n",
              "                        <td id=\"T_7f1789ae_5fcf_11ec_85df_0242ac1c0002row2_col2\" class=\"data row2 col2\" >99%</td>\n",
              "            </tr>\n",
              "            <tr>\n",
              "                        <th id=\"T_7f1789ae_5fcf_11ec_85df_0242ac1c0002level0_row3\" class=\"row_heading level0 row3\" >Maximum A Posterior</th>\n",
              "                        <td id=\"T_7f1789ae_5fcf_11ec_85df_0242ac1c0002row3_col0\" class=\"data row3 col0\" >98%</td>\n",
              "                        <td id=\"T_7f1789ae_5fcf_11ec_85df_0242ac1c0002row3_col1\" class=\"data row3 col1\" >97%</td>\n",
              "                        <td id=\"T_7f1789ae_5fcf_11ec_85df_0242ac1c0002row3_col2\" class=\"data row3 col2\" >99%</td>\n",
              "            </tr>\n",
              "    </tbody></table>"
            ],
            "text/plain": [
              "<pandas.io.formats.style.Styler at 0x7faf3f432c50>"
            ]
          },
          "metadata": {},
          "execution_count": 31
        }
      ]
    },
    {
      "cell_type": "markdown",
      "metadata": {
        "id": "i8z6s6ddGGgV"
      },
      "source": [
        "# Haberman's Survival Dataset "
      ]
    },
    {
      "cell_type": "markdown",
      "source": [
        "## Load Dataset"
      ],
      "metadata": {
        "id": "5vK8v41i-4e8"
      }
    },
    {
      "cell_type": "code",
      "metadata": {
        "colab": {
          "base_uri": "https://localhost:8080/"
        },
        "id": "USN-kkgypXyE",
        "outputId": "4e2079fe-70fd-458d-e2f2-3a32af50a6c2"
      },
      "source": [
        "dataset = pd.read_csv('/content/drive/MyDrive/Colab Notebooks/Pattern Recognition/Dataset/Haberman/haberman.data', sep=',', header=None)\n",
        "dataset.columns = ['Feature 1', 'Feature 2', 'Feature 3', 'Class']\n",
        "dataset.head()"
      ],
      "execution_count": null,
      "outputs": [
        {
          "output_type": "execute_result",
          "data": {
            "text/html": [
              "\n",
              "  <div id=\"df-c6117fe2-051a-419e-9892-499e925c3073\">\n",
              "    <div class=\"colab-df-container\">\n",
              "      <div>\n",
              "<style scoped>\n",
              "    .dataframe tbody tr th:only-of-type {\n",
              "        vertical-align: middle;\n",
              "    }\n",
              "\n",
              "    .dataframe tbody tr th {\n",
              "        vertical-align: top;\n",
              "    }\n",
              "\n",
              "    .dataframe thead th {\n",
              "        text-align: right;\n",
              "    }\n",
              "</style>\n",
              "<table border=\"1\" class=\"dataframe\">\n",
              "  <thead>\n",
              "    <tr style=\"text-align: right;\">\n",
              "      <th></th>\n",
              "      <th>Feature 1</th>\n",
              "      <th>Feature 2</th>\n",
              "      <th>Feature 3</th>\n",
              "      <th>Class</th>\n",
              "    </tr>\n",
              "  </thead>\n",
              "  <tbody>\n",
              "    <tr>\n",
              "      <th>0</th>\n",
              "      <td>30</td>\n",
              "      <td>64</td>\n",
              "      <td>1</td>\n",
              "      <td>1</td>\n",
              "    </tr>\n",
              "    <tr>\n",
              "      <th>1</th>\n",
              "      <td>30</td>\n",
              "      <td>62</td>\n",
              "      <td>3</td>\n",
              "      <td>1</td>\n",
              "    </tr>\n",
              "    <tr>\n",
              "      <th>2</th>\n",
              "      <td>30</td>\n",
              "      <td>65</td>\n",
              "      <td>0</td>\n",
              "      <td>1</td>\n",
              "    </tr>\n",
              "    <tr>\n",
              "      <th>3</th>\n",
              "      <td>31</td>\n",
              "      <td>59</td>\n",
              "      <td>2</td>\n",
              "      <td>1</td>\n",
              "    </tr>\n",
              "    <tr>\n",
              "      <th>4</th>\n",
              "      <td>31</td>\n",
              "      <td>65</td>\n",
              "      <td>4</td>\n",
              "      <td>1</td>\n",
              "    </tr>\n",
              "  </tbody>\n",
              "</table>\n",
              "</div>\n",
              "      <button class=\"colab-df-convert\" onclick=\"convertToInteractive('df-c6117fe2-051a-419e-9892-499e925c3073')\"\n",
              "              title=\"Convert this dataframe to an interactive table.\"\n",
              "              style=\"display:none;\">\n",
              "        \n",
              "  <svg xmlns=\"http://www.w3.org/2000/svg\" height=\"24px\"viewBox=\"0 0 24 24\"\n",
              "       width=\"24px\">\n",
              "    <path d=\"M0 0h24v24H0V0z\" fill=\"none\"/>\n",
              "    <path d=\"M18.56 5.44l.94 2.06.94-2.06 2.06-.94-2.06-.94-.94-2.06-.94 2.06-2.06.94zm-11 1L8.5 8.5l.94-2.06 2.06-.94-2.06-.94L8.5 2.5l-.94 2.06-2.06.94zm10 10l.94 2.06.94-2.06 2.06-.94-2.06-.94-.94-2.06-.94 2.06-2.06.94z\"/><path d=\"M17.41 7.96l-1.37-1.37c-.4-.4-.92-.59-1.43-.59-.52 0-1.04.2-1.43.59L10.3 9.45l-7.72 7.72c-.78.78-.78 2.05 0 2.83L4 21.41c.39.39.9.59 1.41.59.51 0 1.02-.2 1.41-.59l7.78-7.78 2.81-2.81c.8-.78.8-2.07 0-2.86zM5.41 20L4 18.59l7.72-7.72 1.47 1.35L5.41 20z\"/>\n",
              "  </svg>\n",
              "      </button>\n",
              "      \n",
              "  <style>\n",
              "    .colab-df-container {\n",
              "      display:flex;\n",
              "      flex-wrap:wrap;\n",
              "      gap: 12px;\n",
              "    }\n",
              "\n",
              "    .colab-df-convert {\n",
              "      background-color: #E8F0FE;\n",
              "      border: none;\n",
              "      border-radius: 50%;\n",
              "      cursor: pointer;\n",
              "      display: none;\n",
              "      fill: #1967D2;\n",
              "      height: 32px;\n",
              "      padding: 0 0 0 0;\n",
              "      width: 32px;\n",
              "    }\n",
              "\n",
              "    .colab-df-convert:hover {\n",
              "      background-color: #E2EBFA;\n",
              "      box-shadow: 0px 1px 2px rgba(60, 64, 67, 0.3), 0px 1px 3px 1px rgba(60, 64, 67, 0.15);\n",
              "      fill: #174EA6;\n",
              "    }\n",
              "\n",
              "    [theme=dark] .colab-df-convert {\n",
              "      background-color: #3B4455;\n",
              "      fill: #D2E3FC;\n",
              "    }\n",
              "\n",
              "    [theme=dark] .colab-df-convert:hover {\n",
              "      background-color: #434B5C;\n",
              "      box-shadow: 0px 1px 3px 1px rgba(0, 0, 0, 0.15);\n",
              "      filter: drop-shadow(0px 1px 2px rgba(0, 0, 0, 0.3));\n",
              "      fill: #FFFFFF;\n",
              "    }\n",
              "  </style>\n",
              "\n",
              "      <script>\n",
              "        const buttonEl =\n",
              "          document.querySelector('#df-c6117fe2-051a-419e-9892-499e925c3073 button.colab-df-convert');\n",
              "        buttonEl.style.display =\n",
              "          google.colab.kernel.accessAllowed ? 'block' : 'none';\n",
              "\n",
              "        async function convertToInteractive(key) {\n",
              "          const element = document.querySelector('#df-c6117fe2-051a-419e-9892-499e925c3073');\n",
              "          const dataTable =\n",
              "            await google.colab.kernel.invokeFunction('convertToInteractive',\n",
              "                                                     [key], {});\n",
              "          if (!dataTable) return;\n",
              "\n",
              "          const docLinkHtml = 'Like what you see? Visit the ' +\n",
              "            '<a target=\"_blank\" href=https://colab.research.google.com/notebooks/data_table.ipynb>data table notebook</a>'\n",
              "            + ' to learn more about interactive tables.';\n",
              "          element.innerHTML = '';\n",
              "          dataTable['output_type'] = 'display_data';\n",
              "          await google.colab.output.renderOutput(dataTable, element);\n",
              "          const docLink = document.createElement('div');\n",
              "          docLink.innerHTML = docLinkHtml;\n",
              "          element.appendChild(docLink);\n",
              "        }\n",
              "      </script>\n",
              "    </div>\n",
              "  </div>\n",
              "  "
            ],
            "text/plain": [
              "   Feature 1  Feature 2  Feature 3  Class\n",
              "0         30         64          1      1\n",
              "1         30         62          3      1\n",
              "2         30         65          0      1\n",
              "3         31         59          2      1\n",
              "4         31         65          4      1"
            ]
          },
          "metadata": {},
          "execution_count": 32
        }
      ]
    },
    {
      "cell_type": "markdown",
      "source": [
        "## Classification With Minimum Euclidean Distance"
      ],
      "metadata": {
        "id": "sV5GyS2EOGOs"
      }
    },
    {
      "cell_type": "code",
      "source": [
        "classified_labels = classify_with_minimum_euclidean_distance(dataset)"
      ],
      "metadata": {
        "id": "LpFgWpP7OHm5"
      },
      "execution_count": null,
      "outputs": []
    },
    {
      "cell_type": "markdown",
      "metadata": {
        "id": "JpqgndPNOZ1k"
      },
      "source": [
        "### Minimum Euclidean Distance Confustion Matrix"
      ]
    },
    {
      "cell_type": "code",
      "metadata": {
        "colab": {
          "base_uri": "https://localhost:8080/"
        },
        "outputId": "8613ab19-c73f-420b-f49c-a3807b87312e",
        "id": "mI_Wv24iOZ1l"
      },
      "source": [
        "confusion_matrix = get_confusion_matrix(dataset, classified_labels)\n",
        "print('Confusion Matrix: Rows is Classification Result and Columns is Reality')\n",
        "confusion_matrix"
      ],
      "execution_count": null,
      "outputs": [
        {
          "output_type": "stream",
          "name": "stdout",
          "text": [
            "Confusion Matrix: Rows is Classification Result and Columns is Reality\n"
          ]
        },
        {
          "output_type": "execute_result",
          "data": {
            "text/html": [
              "\n",
              "  <div id=\"df-e0851982-3f98-4ee0-8921-81547813e60d\">\n",
              "    <div class=\"colab-df-container\">\n",
              "      <div>\n",
              "<style scoped>\n",
              "    .dataframe tbody tr th:only-of-type {\n",
              "        vertical-align: middle;\n",
              "    }\n",
              "\n",
              "    .dataframe tbody tr th {\n",
              "        vertical-align: top;\n",
              "    }\n",
              "\n",
              "    .dataframe thead th {\n",
              "        text-align: right;\n",
              "    }\n",
              "</style>\n",
              "<table border=\"1\" class=\"dataframe\">\n",
              "  <thead>\n",
              "    <tr style=\"text-align: right;\">\n",
              "      <th></th>\n",
              "      <th>1</th>\n",
              "      <th>2</th>\n",
              "    </tr>\n",
              "  </thead>\n",
              "  <tbody>\n",
              "    <tr>\n",
              "      <th>1</th>\n",
              "      <td>175</td>\n",
              "      <td>38</td>\n",
              "    </tr>\n",
              "    <tr>\n",
              "      <th>2</th>\n",
              "      <td>50</td>\n",
              "      <td>43</td>\n",
              "    </tr>\n",
              "  </tbody>\n",
              "</table>\n",
              "</div>\n",
              "      <button class=\"colab-df-convert\" onclick=\"convertToInteractive('df-e0851982-3f98-4ee0-8921-81547813e60d')\"\n",
              "              title=\"Convert this dataframe to an interactive table.\"\n",
              "              style=\"display:none;\">\n",
              "        \n",
              "  <svg xmlns=\"http://www.w3.org/2000/svg\" height=\"24px\"viewBox=\"0 0 24 24\"\n",
              "       width=\"24px\">\n",
              "    <path d=\"M0 0h24v24H0V0z\" fill=\"none\"/>\n",
              "    <path d=\"M18.56 5.44l.94 2.06.94-2.06 2.06-.94-2.06-.94-.94-2.06-.94 2.06-2.06.94zm-11 1L8.5 8.5l.94-2.06 2.06-.94-2.06-.94L8.5 2.5l-.94 2.06-2.06.94zm10 10l.94 2.06.94-2.06 2.06-.94-2.06-.94-.94-2.06-.94 2.06-2.06.94z\"/><path d=\"M17.41 7.96l-1.37-1.37c-.4-.4-.92-.59-1.43-.59-.52 0-1.04.2-1.43.59L10.3 9.45l-7.72 7.72c-.78.78-.78 2.05 0 2.83L4 21.41c.39.39.9.59 1.41.59.51 0 1.02-.2 1.41-.59l7.78-7.78 2.81-2.81c.8-.78.8-2.07 0-2.86zM5.41 20L4 18.59l7.72-7.72 1.47 1.35L5.41 20z\"/>\n",
              "  </svg>\n",
              "      </button>\n",
              "      \n",
              "  <style>\n",
              "    .colab-df-container {\n",
              "      display:flex;\n",
              "      flex-wrap:wrap;\n",
              "      gap: 12px;\n",
              "    }\n",
              "\n",
              "    .colab-df-convert {\n",
              "      background-color: #E8F0FE;\n",
              "      border: none;\n",
              "      border-radius: 50%;\n",
              "      cursor: pointer;\n",
              "      display: none;\n",
              "      fill: #1967D2;\n",
              "      height: 32px;\n",
              "      padding: 0 0 0 0;\n",
              "      width: 32px;\n",
              "    }\n",
              "\n",
              "    .colab-df-convert:hover {\n",
              "      background-color: #E2EBFA;\n",
              "      box-shadow: 0px 1px 2px rgba(60, 64, 67, 0.3), 0px 1px 3px 1px rgba(60, 64, 67, 0.15);\n",
              "      fill: #174EA6;\n",
              "    }\n",
              "\n",
              "    [theme=dark] .colab-df-convert {\n",
              "      background-color: #3B4455;\n",
              "      fill: #D2E3FC;\n",
              "    }\n",
              "\n",
              "    [theme=dark] .colab-df-convert:hover {\n",
              "      background-color: #434B5C;\n",
              "      box-shadow: 0px 1px 3px 1px rgba(0, 0, 0, 0.15);\n",
              "      filter: drop-shadow(0px 1px 2px rgba(0, 0, 0, 0.3));\n",
              "      fill: #FFFFFF;\n",
              "    }\n",
              "  </style>\n",
              "\n",
              "      <script>\n",
              "        const buttonEl =\n",
              "          document.querySelector('#df-e0851982-3f98-4ee0-8921-81547813e60d button.colab-df-convert');\n",
              "        buttonEl.style.display =\n",
              "          google.colab.kernel.accessAllowed ? 'block' : 'none';\n",
              "\n",
              "        async function convertToInteractive(key) {\n",
              "          const element = document.querySelector('#df-e0851982-3f98-4ee0-8921-81547813e60d');\n",
              "          const dataTable =\n",
              "            await google.colab.kernel.invokeFunction('convertToInteractive',\n",
              "                                                     [key], {});\n",
              "          if (!dataTable) return;\n",
              "\n",
              "          const docLinkHtml = 'Like what you see? Visit the ' +\n",
              "            '<a target=\"_blank\" href=https://colab.research.google.com/notebooks/data_table.ipynb>data table notebook</a>'\n",
              "            + ' to learn more about interactive tables.';\n",
              "          element.innerHTML = '';\n",
              "          dataTable['output_type'] = 'display_data';\n",
              "          await google.colab.output.renderOutput(dataTable, element);\n",
              "          const docLink = document.createElement('div');\n",
              "          docLink.innerHTML = docLinkHtml;\n",
              "          element.appendChild(docLink);\n",
              "        }\n",
              "      </script>\n",
              "    </div>\n",
              "  </div>\n",
              "  "
            ],
            "text/plain": [
              "     1   2\n",
              "1  175  38\n",
              "2   50  43"
            ]
          },
          "metadata": {},
          "execution_count": 34
        }
      ]
    },
    {
      "cell_type": "markdown",
      "metadata": {
        "id": "E3-fx9CgOZ1m"
      },
      "source": [
        "### Minimum Euclidean Distance Evaluation"
      ]
    },
    {
      "cell_type": "code",
      "metadata": {
        "id": "hrsXFR0ROZ1n"
      },
      "source": [
        "accuracy = {}\n",
        "accuracy['Minimum Euclidean Distance'] = evaluate_classifier(dataset, confusion_matrix)"
      ],
      "execution_count": null,
      "outputs": []
    },
    {
      "cell_type": "markdown",
      "source": [
        "## Classification With Minimum Mahalanobis Distance"
      ],
      "metadata": {
        "id": "RcUGjsv_OobC"
      }
    },
    {
      "cell_type": "code",
      "source": [
        "classified_labels = classify_with_minimum_mahalanobis_distance(dataset)"
      ],
      "metadata": {
        "id": "GilHlxwkOobD"
      },
      "execution_count": null,
      "outputs": []
    },
    {
      "cell_type": "markdown",
      "metadata": {
        "id": "SJX0etnTOobE"
      },
      "source": [
        "### Minimum Mahalanobis Distance Confustion Matrix"
      ]
    },
    {
      "cell_type": "code",
      "metadata": {
        "colab": {
          "base_uri": "https://localhost:8080/"
        },
        "outputId": "523ef58a-9700-4156-aaff-8fc76db8009f",
        "id": "lpE7NBgSOobG"
      },
      "source": [
        "confusion_matrix = get_confusion_matrix(dataset, classified_labels)\n",
        "print('Confusion Matrix: Rows is Classification Result and Columns is Reality')\n",
        "confusion_matrix"
      ],
      "execution_count": null,
      "outputs": [
        {
          "output_type": "stream",
          "name": "stdout",
          "text": [
            "Confusion Matrix: Rows is Classification Result and Columns is Reality\n"
          ]
        },
        {
          "output_type": "execute_result",
          "data": {
            "text/html": [
              "\n",
              "  <div id=\"df-15e170ad-ce89-4ef4-b2d0-ac608bd43365\">\n",
              "    <div class=\"colab-df-container\">\n",
              "      <div>\n",
              "<style scoped>\n",
              "    .dataframe tbody tr th:only-of-type {\n",
              "        vertical-align: middle;\n",
              "    }\n",
              "\n",
              "    .dataframe tbody tr th {\n",
              "        vertical-align: top;\n",
              "    }\n",
              "\n",
              "    .dataframe thead th {\n",
              "        text-align: right;\n",
              "    }\n",
              "</style>\n",
              "<table border=\"1\" class=\"dataframe\">\n",
              "  <thead>\n",
              "    <tr style=\"text-align: right;\">\n",
              "      <th></th>\n",
              "      <th>1</th>\n",
              "      <th>2</th>\n",
              "    </tr>\n",
              "  </thead>\n",
              "  <tbody>\n",
              "    <tr>\n",
              "      <th>1</th>\n",
              "      <td>160</td>\n",
              "      <td>30</td>\n",
              "    </tr>\n",
              "    <tr>\n",
              "      <th>2</th>\n",
              "      <td>65</td>\n",
              "      <td>51</td>\n",
              "    </tr>\n",
              "  </tbody>\n",
              "</table>\n",
              "</div>\n",
              "      <button class=\"colab-df-convert\" onclick=\"convertToInteractive('df-15e170ad-ce89-4ef4-b2d0-ac608bd43365')\"\n",
              "              title=\"Convert this dataframe to an interactive table.\"\n",
              "              style=\"display:none;\">\n",
              "        \n",
              "  <svg xmlns=\"http://www.w3.org/2000/svg\" height=\"24px\"viewBox=\"0 0 24 24\"\n",
              "       width=\"24px\">\n",
              "    <path d=\"M0 0h24v24H0V0z\" fill=\"none\"/>\n",
              "    <path d=\"M18.56 5.44l.94 2.06.94-2.06 2.06-.94-2.06-.94-.94-2.06-.94 2.06-2.06.94zm-11 1L8.5 8.5l.94-2.06 2.06-.94-2.06-.94L8.5 2.5l-.94 2.06-2.06.94zm10 10l.94 2.06.94-2.06 2.06-.94-2.06-.94-.94-2.06-.94 2.06-2.06.94z\"/><path d=\"M17.41 7.96l-1.37-1.37c-.4-.4-.92-.59-1.43-.59-.52 0-1.04.2-1.43.59L10.3 9.45l-7.72 7.72c-.78.78-.78 2.05 0 2.83L4 21.41c.39.39.9.59 1.41.59.51 0 1.02-.2 1.41-.59l7.78-7.78 2.81-2.81c.8-.78.8-2.07 0-2.86zM5.41 20L4 18.59l7.72-7.72 1.47 1.35L5.41 20z\"/>\n",
              "  </svg>\n",
              "      </button>\n",
              "      \n",
              "  <style>\n",
              "    .colab-df-container {\n",
              "      display:flex;\n",
              "      flex-wrap:wrap;\n",
              "      gap: 12px;\n",
              "    }\n",
              "\n",
              "    .colab-df-convert {\n",
              "      background-color: #E8F0FE;\n",
              "      border: none;\n",
              "      border-radius: 50%;\n",
              "      cursor: pointer;\n",
              "      display: none;\n",
              "      fill: #1967D2;\n",
              "      height: 32px;\n",
              "      padding: 0 0 0 0;\n",
              "      width: 32px;\n",
              "    }\n",
              "\n",
              "    .colab-df-convert:hover {\n",
              "      background-color: #E2EBFA;\n",
              "      box-shadow: 0px 1px 2px rgba(60, 64, 67, 0.3), 0px 1px 3px 1px rgba(60, 64, 67, 0.15);\n",
              "      fill: #174EA6;\n",
              "    }\n",
              "\n",
              "    [theme=dark] .colab-df-convert {\n",
              "      background-color: #3B4455;\n",
              "      fill: #D2E3FC;\n",
              "    }\n",
              "\n",
              "    [theme=dark] .colab-df-convert:hover {\n",
              "      background-color: #434B5C;\n",
              "      box-shadow: 0px 1px 3px 1px rgba(0, 0, 0, 0.15);\n",
              "      filter: drop-shadow(0px 1px 2px rgba(0, 0, 0, 0.3));\n",
              "      fill: #FFFFFF;\n",
              "    }\n",
              "  </style>\n",
              "\n",
              "      <script>\n",
              "        const buttonEl =\n",
              "          document.querySelector('#df-15e170ad-ce89-4ef4-b2d0-ac608bd43365 button.colab-df-convert');\n",
              "        buttonEl.style.display =\n",
              "          google.colab.kernel.accessAllowed ? 'block' : 'none';\n",
              "\n",
              "        async function convertToInteractive(key) {\n",
              "          const element = document.querySelector('#df-15e170ad-ce89-4ef4-b2d0-ac608bd43365');\n",
              "          const dataTable =\n",
              "            await google.colab.kernel.invokeFunction('convertToInteractive',\n",
              "                                                     [key], {});\n",
              "          if (!dataTable) return;\n",
              "\n",
              "          const docLinkHtml = 'Like what you see? Visit the ' +\n",
              "            '<a target=\"_blank\" href=https://colab.research.google.com/notebooks/data_table.ipynb>data table notebook</a>'\n",
              "            + ' to learn more about interactive tables.';\n",
              "          element.innerHTML = '';\n",
              "          dataTable['output_type'] = 'display_data';\n",
              "          await google.colab.output.renderOutput(dataTable, element);\n",
              "          const docLink = document.createElement('div');\n",
              "          docLink.innerHTML = docLinkHtml;\n",
              "          element.appendChild(docLink);\n",
              "        }\n",
              "      </script>\n",
              "    </div>\n",
              "  </div>\n",
              "  "
            ],
            "text/plain": [
              "     1   2\n",
              "1  160  30\n",
              "2   65  51"
            ]
          },
          "metadata": {},
          "execution_count": 37
        }
      ]
    },
    {
      "cell_type": "markdown",
      "metadata": {
        "id": "4akPoMXAOobG"
      },
      "source": [
        "### Minimum Mahalanobis Distance Evaluation"
      ]
    },
    {
      "cell_type": "code",
      "metadata": {
        "id": "YZKGe5N4OobH"
      },
      "source": [
        "accuracy['Minimum Mahalanobis Distance'] = evaluate_classifier(dataset, confusion_matrix)"
      ],
      "execution_count": null,
      "outputs": []
    },
    {
      "cell_type": "markdown",
      "metadata": {
        "id": "IHIp4mt8Gtnk"
      },
      "source": [
        "## Classification With Maximum Likelihood"
      ]
    },
    {
      "cell_type": "code",
      "metadata": {
        "id": "-enccIQcG-Pv"
      },
      "source": [
        "classified_labels = classify_with_maximum_liklihood(dataset)"
      ],
      "execution_count": null,
      "outputs": []
    },
    {
      "cell_type": "markdown",
      "metadata": {
        "id": "lfVXpBZAKAm1"
      },
      "source": [
        "### Maximum Likelihood Confustion Matrix"
      ]
    },
    {
      "cell_type": "code",
      "metadata": {
        "colab": {
          "base_uri": "https://localhost:8080/"
        },
        "id": "rVVLnAtTUiTC",
        "outputId": "cd873a5b-c48d-40f4-baa7-e674025f4bcd"
      },
      "source": [
        "confusion_matrix = get_confusion_matrix(dataset, classified_labels)\n",
        "print('Confusion Matrix: Rows is Classification Result and Columns is Reality')\n",
        "confusion_matrix"
      ],
      "execution_count": null,
      "outputs": [
        {
          "output_type": "stream",
          "name": "stdout",
          "text": [
            "Confusion Matrix: Rows is Classification Result and Columns is Reality\n"
          ]
        },
        {
          "output_type": "execute_result",
          "data": {
            "text/html": [
              "\n",
              "  <div id=\"df-9720e57a-dc49-432c-9255-575c36a5e239\">\n",
              "    <div class=\"colab-df-container\">\n",
              "      <div>\n",
              "<style scoped>\n",
              "    .dataframe tbody tr th:only-of-type {\n",
              "        vertical-align: middle;\n",
              "    }\n",
              "\n",
              "    .dataframe tbody tr th {\n",
              "        vertical-align: top;\n",
              "    }\n",
              "\n",
              "    .dataframe thead th {\n",
              "        text-align: right;\n",
              "    }\n",
              "</style>\n",
              "<table border=\"1\" class=\"dataframe\">\n",
              "  <thead>\n",
              "    <tr style=\"text-align: right;\">\n",
              "      <th></th>\n",
              "      <th>1</th>\n",
              "      <th>2</th>\n",
              "    </tr>\n",
              "  </thead>\n",
              "  <tbody>\n",
              "    <tr>\n",
              "      <th>1</th>\n",
              "      <td>195</td>\n",
              "      <td>48</td>\n",
              "    </tr>\n",
              "    <tr>\n",
              "      <th>2</th>\n",
              "      <td>30</td>\n",
              "      <td>33</td>\n",
              "    </tr>\n",
              "  </tbody>\n",
              "</table>\n",
              "</div>\n",
              "      <button class=\"colab-df-convert\" onclick=\"convertToInteractive('df-9720e57a-dc49-432c-9255-575c36a5e239')\"\n",
              "              title=\"Convert this dataframe to an interactive table.\"\n",
              "              style=\"display:none;\">\n",
              "        \n",
              "  <svg xmlns=\"http://www.w3.org/2000/svg\" height=\"24px\"viewBox=\"0 0 24 24\"\n",
              "       width=\"24px\">\n",
              "    <path d=\"M0 0h24v24H0V0z\" fill=\"none\"/>\n",
              "    <path d=\"M18.56 5.44l.94 2.06.94-2.06 2.06-.94-2.06-.94-.94-2.06-.94 2.06-2.06.94zm-11 1L8.5 8.5l.94-2.06 2.06-.94-2.06-.94L8.5 2.5l-.94 2.06-2.06.94zm10 10l.94 2.06.94-2.06 2.06-.94-2.06-.94-.94-2.06-.94 2.06-2.06.94z\"/><path d=\"M17.41 7.96l-1.37-1.37c-.4-.4-.92-.59-1.43-.59-.52 0-1.04.2-1.43.59L10.3 9.45l-7.72 7.72c-.78.78-.78 2.05 0 2.83L4 21.41c.39.39.9.59 1.41.59.51 0 1.02-.2 1.41-.59l7.78-7.78 2.81-2.81c.8-.78.8-2.07 0-2.86zM5.41 20L4 18.59l7.72-7.72 1.47 1.35L5.41 20z\"/>\n",
              "  </svg>\n",
              "      </button>\n",
              "      \n",
              "  <style>\n",
              "    .colab-df-container {\n",
              "      display:flex;\n",
              "      flex-wrap:wrap;\n",
              "      gap: 12px;\n",
              "    }\n",
              "\n",
              "    .colab-df-convert {\n",
              "      background-color: #E8F0FE;\n",
              "      border: none;\n",
              "      border-radius: 50%;\n",
              "      cursor: pointer;\n",
              "      display: none;\n",
              "      fill: #1967D2;\n",
              "      height: 32px;\n",
              "      padding: 0 0 0 0;\n",
              "      width: 32px;\n",
              "    }\n",
              "\n",
              "    .colab-df-convert:hover {\n",
              "      background-color: #E2EBFA;\n",
              "      box-shadow: 0px 1px 2px rgba(60, 64, 67, 0.3), 0px 1px 3px 1px rgba(60, 64, 67, 0.15);\n",
              "      fill: #174EA6;\n",
              "    }\n",
              "\n",
              "    [theme=dark] .colab-df-convert {\n",
              "      background-color: #3B4455;\n",
              "      fill: #D2E3FC;\n",
              "    }\n",
              "\n",
              "    [theme=dark] .colab-df-convert:hover {\n",
              "      background-color: #434B5C;\n",
              "      box-shadow: 0px 1px 3px 1px rgba(0, 0, 0, 0.15);\n",
              "      filter: drop-shadow(0px 1px 2px rgba(0, 0, 0, 0.3));\n",
              "      fill: #FFFFFF;\n",
              "    }\n",
              "  </style>\n",
              "\n",
              "      <script>\n",
              "        const buttonEl =\n",
              "          document.querySelector('#df-9720e57a-dc49-432c-9255-575c36a5e239 button.colab-df-convert');\n",
              "        buttonEl.style.display =\n",
              "          google.colab.kernel.accessAllowed ? 'block' : 'none';\n",
              "\n",
              "        async function convertToInteractive(key) {\n",
              "          const element = document.querySelector('#df-9720e57a-dc49-432c-9255-575c36a5e239');\n",
              "          const dataTable =\n",
              "            await google.colab.kernel.invokeFunction('convertToInteractive',\n",
              "                                                     [key], {});\n",
              "          if (!dataTable) return;\n",
              "\n",
              "          const docLinkHtml = 'Like what you see? Visit the ' +\n",
              "            '<a target=\"_blank\" href=https://colab.research.google.com/notebooks/data_table.ipynb>data table notebook</a>'\n",
              "            + ' to learn more about interactive tables.';\n",
              "          element.innerHTML = '';\n",
              "          dataTable['output_type'] = 'display_data';\n",
              "          await google.colab.output.renderOutput(dataTable, element);\n",
              "          const docLink = document.createElement('div');\n",
              "          docLink.innerHTML = docLinkHtml;\n",
              "          element.appendChild(docLink);\n",
              "        }\n",
              "      </script>\n",
              "    </div>\n",
              "  </div>\n",
              "  "
            ],
            "text/plain": [
              "     1   2\n",
              "1  195  48\n",
              "2   30  33"
            ]
          },
          "metadata": {},
          "execution_count": 40
        }
      ]
    },
    {
      "cell_type": "markdown",
      "metadata": {
        "id": "qoum6SBKAUoD"
      },
      "source": [
        "### Maximum Likelihood Evaluation"
      ]
    },
    {
      "cell_type": "code",
      "metadata": {
        "id": "r4JfcoxeKFmC"
      },
      "source": [
        "accuracy['Maximum Likelihood'] = evaluate_classifier(dataset, confusion_matrix)"
      ],
      "execution_count": null,
      "outputs": []
    },
    {
      "cell_type": "markdown",
      "metadata": {
        "id": "i6Xoh2BhHhEr"
      },
      "source": [
        "## Classification With Maximum A Posterior"
      ]
    },
    {
      "cell_type": "code",
      "metadata": {
        "id": "YdFEMjg8HlUp"
      },
      "source": [
        "classified_labels = classify_with_maximum_a_posterior(dataset)"
      ],
      "execution_count": null,
      "outputs": []
    },
    {
      "cell_type": "markdown",
      "metadata": {
        "id": "ZKRzFXhzLBrs"
      },
      "source": [
        "### Maximum A Posterior Confustion Matrix"
      ]
    },
    {
      "cell_type": "code",
      "metadata": {
        "colab": {
          "base_uri": "https://localhost:8080/"
        },
        "id": "wOTTS_afLCF-",
        "outputId": "40315489-7237-468d-fd70-29362c8c8560"
      },
      "source": [
        "confusion_matrix = get_confusion_matrix(dataset, classified_labels)\n",
        "print('Confusion Matrix: Rows is Classification Result and Columns is Reality')\n",
        "confusion_matrix"
      ],
      "execution_count": null,
      "outputs": [
        {
          "output_type": "stream",
          "name": "stdout",
          "text": [
            "Confusion Matrix: Rows is Classification Result and Columns is Reality\n"
          ]
        },
        {
          "output_type": "execute_result",
          "data": {
            "text/html": [
              "\n",
              "  <div id=\"df-1102e2b5-b45e-4e8a-95bf-912acf6f7112\">\n",
              "    <div class=\"colab-df-container\">\n",
              "      <div>\n",
              "<style scoped>\n",
              "    .dataframe tbody tr th:only-of-type {\n",
              "        vertical-align: middle;\n",
              "    }\n",
              "\n",
              "    .dataframe tbody tr th {\n",
              "        vertical-align: top;\n",
              "    }\n",
              "\n",
              "    .dataframe thead th {\n",
              "        text-align: right;\n",
              "    }\n",
              "</style>\n",
              "<table border=\"1\" class=\"dataframe\">\n",
              "  <thead>\n",
              "    <tr style=\"text-align: right;\">\n",
              "      <th></th>\n",
              "      <th>1</th>\n",
              "      <th>2</th>\n",
              "    </tr>\n",
              "  </thead>\n",
              "  <tbody>\n",
              "    <tr>\n",
              "      <th>1</th>\n",
              "      <td>215</td>\n",
              "      <td>63</td>\n",
              "    </tr>\n",
              "    <tr>\n",
              "      <th>2</th>\n",
              "      <td>10</td>\n",
              "      <td>18</td>\n",
              "    </tr>\n",
              "  </tbody>\n",
              "</table>\n",
              "</div>\n",
              "      <button class=\"colab-df-convert\" onclick=\"convertToInteractive('df-1102e2b5-b45e-4e8a-95bf-912acf6f7112')\"\n",
              "              title=\"Convert this dataframe to an interactive table.\"\n",
              "              style=\"display:none;\">\n",
              "        \n",
              "  <svg xmlns=\"http://www.w3.org/2000/svg\" height=\"24px\"viewBox=\"0 0 24 24\"\n",
              "       width=\"24px\">\n",
              "    <path d=\"M0 0h24v24H0V0z\" fill=\"none\"/>\n",
              "    <path d=\"M18.56 5.44l.94 2.06.94-2.06 2.06-.94-2.06-.94-.94-2.06-.94 2.06-2.06.94zm-11 1L8.5 8.5l.94-2.06 2.06-.94-2.06-.94L8.5 2.5l-.94 2.06-2.06.94zm10 10l.94 2.06.94-2.06 2.06-.94-2.06-.94-.94-2.06-.94 2.06-2.06.94z\"/><path d=\"M17.41 7.96l-1.37-1.37c-.4-.4-.92-.59-1.43-.59-.52 0-1.04.2-1.43.59L10.3 9.45l-7.72 7.72c-.78.78-.78 2.05 0 2.83L4 21.41c.39.39.9.59 1.41.59.51 0 1.02-.2 1.41-.59l7.78-7.78 2.81-2.81c.8-.78.8-2.07 0-2.86zM5.41 20L4 18.59l7.72-7.72 1.47 1.35L5.41 20z\"/>\n",
              "  </svg>\n",
              "      </button>\n",
              "      \n",
              "  <style>\n",
              "    .colab-df-container {\n",
              "      display:flex;\n",
              "      flex-wrap:wrap;\n",
              "      gap: 12px;\n",
              "    }\n",
              "\n",
              "    .colab-df-convert {\n",
              "      background-color: #E8F0FE;\n",
              "      border: none;\n",
              "      border-radius: 50%;\n",
              "      cursor: pointer;\n",
              "      display: none;\n",
              "      fill: #1967D2;\n",
              "      height: 32px;\n",
              "      padding: 0 0 0 0;\n",
              "      width: 32px;\n",
              "    }\n",
              "\n",
              "    .colab-df-convert:hover {\n",
              "      background-color: #E2EBFA;\n",
              "      box-shadow: 0px 1px 2px rgba(60, 64, 67, 0.3), 0px 1px 3px 1px rgba(60, 64, 67, 0.15);\n",
              "      fill: #174EA6;\n",
              "    }\n",
              "\n",
              "    [theme=dark] .colab-df-convert {\n",
              "      background-color: #3B4455;\n",
              "      fill: #D2E3FC;\n",
              "    }\n",
              "\n",
              "    [theme=dark] .colab-df-convert:hover {\n",
              "      background-color: #434B5C;\n",
              "      box-shadow: 0px 1px 3px 1px rgba(0, 0, 0, 0.15);\n",
              "      filter: drop-shadow(0px 1px 2px rgba(0, 0, 0, 0.3));\n",
              "      fill: #FFFFFF;\n",
              "    }\n",
              "  </style>\n",
              "\n",
              "      <script>\n",
              "        const buttonEl =\n",
              "          document.querySelector('#df-1102e2b5-b45e-4e8a-95bf-912acf6f7112 button.colab-df-convert');\n",
              "        buttonEl.style.display =\n",
              "          google.colab.kernel.accessAllowed ? 'block' : 'none';\n",
              "\n",
              "        async function convertToInteractive(key) {\n",
              "          const element = document.querySelector('#df-1102e2b5-b45e-4e8a-95bf-912acf6f7112');\n",
              "          const dataTable =\n",
              "            await google.colab.kernel.invokeFunction('convertToInteractive',\n",
              "                                                     [key], {});\n",
              "          if (!dataTable) return;\n",
              "\n",
              "          const docLinkHtml = 'Like what you see? Visit the ' +\n",
              "            '<a target=\"_blank\" href=https://colab.research.google.com/notebooks/data_table.ipynb>data table notebook</a>'\n",
              "            + ' to learn more about interactive tables.';\n",
              "          element.innerHTML = '';\n",
              "          dataTable['output_type'] = 'display_data';\n",
              "          await google.colab.output.renderOutput(dataTable, element);\n",
              "          const docLink = document.createElement('div');\n",
              "          docLink.innerHTML = docLinkHtml;\n",
              "          element.appendChild(docLink);\n",
              "        }\n",
              "      </script>\n",
              "    </div>\n",
              "  </div>\n",
              "  "
            ],
            "text/plain": [
              "     1   2\n",
              "1  215  63\n",
              "2   10  18"
            ]
          },
          "metadata": {},
          "execution_count": 43
        }
      ]
    },
    {
      "cell_type": "markdown",
      "metadata": {
        "id": "8dxxfxu3AcLQ"
      },
      "source": [
        "### Maximum A Posterior Evaluation"
      ]
    },
    {
      "cell_type": "code",
      "metadata": {
        "id": "8hjb1YNsqhKa"
      },
      "source": [
        "accuracy['Maximum A Posterior'] = evaluate_classifier(dataset, confusion_matrix)"
      ],
      "execution_count": null,
      "outputs": []
    },
    {
      "cell_type": "markdown",
      "metadata": {
        "id": "u9FHauOhH03a"
      },
      "source": [
        "## Classification With Bayesian"
      ]
    },
    {
      "cell_type": "code",
      "metadata": {
        "id": "It4JIwjhES8j"
      },
      "source": [
        "cost_function = reformat_cost_function([[0, 2], [1, 0]])"
      ],
      "execution_count": null,
      "outputs": []
    },
    {
      "cell_type": "code",
      "metadata": {
        "id": "BwbN587uIEB8"
      },
      "source": [
        "classified_labels = classify_with_Bayesian(dataset, cost_function)"
      ],
      "execution_count": null,
      "outputs": []
    },
    {
      "cell_type": "markdown",
      "metadata": {
        "id": "6zZ4E7mwLVh-"
      },
      "source": [
        "### Bayesian Confustion Matrix"
      ]
    },
    {
      "cell_type": "code",
      "metadata": {
        "colab": {
          "base_uri": "https://localhost:8080/"
        },
        "id": "QcKBo9ozLV6J",
        "outputId": "8384b4c3-8686-4409-e27d-4e0a6bbd2def"
      },
      "source": [
        "confusion_matrix = get_confusion_matrix(dataset, classified_labels)\n",
        "print('Confusion Matrix: Rows is Classification Result and Columns is Reality')\n",
        "confusion_matrix"
      ],
      "execution_count": null,
      "outputs": [
        {
          "output_type": "stream",
          "name": "stdout",
          "text": [
            "Confusion Matrix: Rows is Classification Result and Columns is Reality\n"
          ]
        },
        {
          "output_type": "execute_result",
          "data": {
            "text/html": [
              "\n",
              "  <div id=\"df-57d68686-93b5-44a7-a369-1784ccfae7d4\">\n",
              "    <div class=\"colab-df-container\">\n",
              "      <div>\n",
              "<style scoped>\n",
              "    .dataframe tbody tr th:only-of-type {\n",
              "        vertical-align: middle;\n",
              "    }\n",
              "\n",
              "    .dataframe tbody tr th {\n",
              "        vertical-align: top;\n",
              "    }\n",
              "\n",
              "    .dataframe thead th {\n",
              "        text-align: right;\n",
              "    }\n",
              "</style>\n",
              "<table border=\"1\" class=\"dataframe\">\n",
              "  <thead>\n",
              "    <tr style=\"text-align: right;\">\n",
              "      <th></th>\n",
              "      <th>1</th>\n",
              "      <th>2</th>\n",
              "    </tr>\n",
              "  </thead>\n",
              "  <tbody>\n",
              "    <tr>\n",
              "      <th>1</th>\n",
              "      <td>204</td>\n",
              "      <td>56</td>\n",
              "    </tr>\n",
              "    <tr>\n",
              "      <th>2</th>\n",
              "      <td>21</td>\n",
              "      <td>25</td>\n",
              "    </tr>\n",
              "  </tbody>\n",
              "</table>\n",
              "</div>\n",
              "      <button class=\"colab-df-convert\" onclick=\"convertToInteractive('df-57d68686-93b5-44a7-a369-1784ccfae7d4')\"\n",
              "              title=\"Convert this dataframe to an interactive table.\"\n",
              "              style=\"display:none;\">\n",
              "        \n",
              "  <svg xmlns=\"http://www.w3.org/2000/svg\" height=\"24px\"viewBox=\"0 0 24 24\"\n",
              "       width=\"24px\">\n",
              "    <path d=\"M0 0h24v24H0V0z\" fill=\"none\"/>\n",
              "    <path d=\"M18.56 5.44l.94 2.06.94-2.06 2.06-.94-2.06-.94-.94-2.06-.94 2.06-2.06.94zm-11 1L8.5 8.5l.94-2.06 2.06-.94-2.06-.94L8.5 2.5l-.94 2.06-2.06.94zm10 10l.94 2.06.94-2.06 2.06-.94-2.06-.94-.94-2.06-.94 2.06-2.06.94z\"/><path d=\"M17.41 7.96l-1.37-1.37c-.4-.4-.92-.59-1.43-.59-.52 0-1.04.2-1.43.59L10.3 9.45l-7.72 7.72c-.78.78-.78 2.05 0 2.83L4 21.41c.39.39.9.59 1.41.59.51 0 1.02-.2 1.41-.59l7.78-7.78 2.81-2.81c.8-.78.8-2.07 0-2.86zM5.41 20L4 18.59l7.72-7.72 1.47 1.35L5.41 20z\"/>\n",
              "  </svg>\n",
              "      </button>\n",
              "      \n",
              "  <style>\n",
              "    .colab-df-container {\n",
              "      display:flex;\n",
              "      flex-wrap:wrap;\n",
              "      gap: 12px;\n",
              "    }\n",
              "\n",
              "    .colab-df-convert {\n",
              "      background-color: #E8F0FE;\n",
              "      border: none;\n",
              "      border-radius: 50%;\n",
              "      cursor: pointer;\n",
              "      display: none;\n",
              "      fill: #1967D2;\n",
              "      height: 32px;\n",
              "      padding: 0 0 0 0;\n",
              "      width: 32px;\n",
              "    }\n",
              "\n",
              "    .colab-df-convert:hover {\n",
              "      background-color: #E2EBFA;\n",
              "      box-shadow: 0px 1px 2px rgba(60, 64, 67, 0.3), 0px 1px 3px 1px rgba(60, 64, 67, 0.15);\n",
              "      fill: #174EA6;\n",
              "    }\n",
              "\n",
              "    [theme=dark] .colab-df-convert {\n",
              "      background-color: #3B4455;\n",
              "      fill: #D2E3FC;\n",
              "    }\n",
              "\n",
              "    [theme=dark] .colab-df-convert:hover {\n",
              "      background-color: #434B5C;\n",
              "      box-shadow: 0px 1px 3px 1px rgba(0, 0, 0, 0.15);\n",
              "      filter: drop-shadow(0px 1px 2px rgba(0, 0, 0, 0.3));\n",
              "      fill: #FFFFFF;\n",
              "    }\n",
              "  </style>\n",
              "\n",
              "      <script>\n",
              "        const buttonEl =\n",
              "          document.querySelector('#df-57d68686-93b5-44a7-a369-1784ccfae7d4 button.colab-df-convert');\n",
              "        buttonEl.style.display =\n",
              "          google.colab.kernel.accessAllowed ? 'block' : 'none';\n",
              "\n",
              "        async function convertToInteractive(key) {\n",
              "          const element = document.querySelector('#df-57d68686-93b5-44a7-a369-1784ccfae7d4');\n",
              "          const dataTable =\n",
              "            await google.colab.kernel.invokeFunction('convertToInteractive',\n",
              "                                                     [key], {});\n",
              "          if (!dataTable) return;\n",
              "\n",
              "          const docLinkHtml = 'Like what you see? Visit the ' +\n",
              "            '<a target=\"_blank\" href=https://colab.research.google.com/notebooks/data_table.ipynb>data table notebook</a>'\n",
              "            + ' to learn more about interactive tables.';\n",
              "          element.innerHTML = '';\n",
              "          dataTable['output_type'] = 'display_data';\n",
              "          await google.colab.output.renderOutput(dataTable, element);\n",
              "          const docLink = document.createElement('div');\n",
              "          docLink.innerHTML = docLinkHtml;\n",
              "          element.appendChild(docLink);\n",
              "        }\n",
              "      </script>\n",
              "    </div>\n",
              "  </div>\n",
              "  "
            ],
            "text/plain": [
              "     1   2\n",
              "1  204  56\n",
              "2   21  25"
            ]
          },
          "metadata": {},
          "execution_count": 47
        }
      ]
    },
    {
      "cell_type": "markdown",
      "metadata": {
        "id": "-h5RsekBIEsi"
      },
      "source": [
        "### Bayesian Evaluation"
      ]
    },
    {
      "cell_type": "code",
      "metadata": {
        "id": "HW7a6_KLDdQx"
      },
      "source": [
        "accuracy['Bayesian'] = evaluate_classifier(dataset, confusion_matrix)"
      ],
      "execution_count": null,
      "outputs": []
    },
    {
      "cell_type": "markdown",
      "source": [
        "## Evaluation"
      ],
      "metadata": {
        "id": "82WMLPvJ-r-u"
      }
    },
    {
      "cell_type": "code",
      "source": [
        "print_evaluation(dataset, accuracy)"
      ],
      "metadata": {
        "colab": {
          "base_uri": "https://localhost:8080/"
        },
        "id": "bdq5kyGv-udr",
        "outputId": "8002368b-2064-4a29-dd1e-9d74b6442f3e"
      },
      "execution_count": null,
      "outputs": [
        {
          "output_type": "execute_result",
          "data": {
            "text/html": [
              "<style  type=\"text/css\" >\n",
              "</style><table id=\"T_83dfb79a_5fcf_11ec_85df_0242ac1c0002\" class=\"dataframe\"><thead>    <tr>        <th class=\"blank level0\" ></th>        <th class=\"col_heading level0 col0\" >Total Accuracy</th>        <th class=\"col_heading level0 col1\" >Accuracy Class 1</th>        <th class=\"col_heading level0 col2\" >Accuracy Class 2</th>    </tr></thead><tbody>\n",
              "                <tr>\n",
              "                        <th id=\"T_83dfb79a_5fcf_11ec_85df_0242ac1c0002level0_row0\" class=\"row_heading level0 row0\" >Minimum Euclidean Distance</th>\n",
              "                        <td id=\"T_83dfb79a_5fcf_11ec_85df_0242ac1c0002row0_col0\" class=\"data row0 col0\" >71%</td>\n",
              "                        <td id=\"T_83dfb79a_5fcf_11ec_85df_0242ac1c0002row0_col1\" class=\"data row0 col1\" >78%</td>\n",
              "                        <td id=\"T_83dfb79a_5fcf_11ec_85df_0242ac1c0002row0_col2\" class=\"data row0 col2\" >53%</td>\n",
              "            </tr>\n",
              "            <tr>\n",
              "                        <th id=\"T_83dfb79a_5fcf_11ec_85df_0242ac1c0002level0_row1\" class=\"row_heading level0 row1\" >Minimum Mahalanobis Distance</th>\n",
              "                        <td id=\"T_83dfb79a_5fcf_11ec_85df_0242ac1c0002row1_col0\" class=\"data row1 col0\" >69%</td>\n",
              "                        <td id=\"T_83dfb79a_5fcf_11ec_85df_0242ac1c0002row1_col1\" class=\"data row1 col1\" >71%</td>\n",
              "                        <td id=\"T_83dfb79a_5fcf_11ec_85df_0242ac1c0002row1_col2\" class=\"data row1 col2\" >63%</td>\n",
              "            </tr>\n",
              "            <tr>\n",
              "                        <th id=\"T_83dfb79a_5fcf_11ec_85df_0242ac1c0002level0_row2\" class=\"row_heading level0 row2\" >Maximum Likelihood</th>\n",
              "                        <td id=\"T_83dfb79a_5fcf_11ec_85df_0242ac1c0002row2_col0\" class=\"data row2 col0\" >75%</td>\n",
              "                        <td id=\"T_83dfb79a_5fcf_11ec_85df_0242ac1c0002row2_col1\" class=\"data row2 col1\" >87%</td>\n",
              "                        <td id=\"T_83dfb79a_5fcf_11ec_85df_0242ac1c0002row2_col2\" class=\"data row2 col2\" >41%</td>\n",
              "            </tr>\n",
              "            <tr>\n",
              "                        <th id=\"T_83dfb79a_5fcf_11ec_85df_0242ac1c0002level0_row3\" class=\"row_heading level0 row3\" >Maximum A Posterior</th>\n",
              "                        <td id=\"T_83dfb79a_5fcf_11ec_85df_0242ac1c0002row3_col0\" class=\"data row3 col0\" >76%</td>\n",
              "                        <td id=\"T_83dfb79a_5fcf_11ec_85df_0242ac1c0002row3_col1\" class=\"data row3 col1\" >96%</td>\n",
              "                        <td id=\"T_83dfb79a_5fcf_11ec_85df_0242ac1c0002row3_col2\" class=\"data row3 col2\" >22%</td>\n",
              "            </tr>\n",
              "            <tr>\n",
              "                        <th id=\"T_83dfb79a_5fcf_11ec_85df_0242ac1c0002level0_row4\" class=\"row_heading level0 row4\" >Bayesian</th>\n",
              "                        <td id=\"T_83dfb79a_5fcf_11ec_85df_0242ac1c0002row4_col0\" class=\"data row4 col0\" >75%</td>\n",
              "                        <td id=\"T_83dfb79a_5fcf_11ec_85df_0242ac1c0002row4_col1\" class=\"data row4 col1\" >91%</td>\n",
              "                        <td id=\"T_83dfb79a_5fcf_11ec_85df_0242ac1c0002row4_col2\" class=\"data row4 col2\" >31%</td>\n",
              "            </tr>\n",
              "    </tbody></table>"
            ],
            "text/plain": [
              "<pandas.io.formats.style.Styler at 0x7faf36915810>"
            ]
          },
          "metadata": {},
          "execution_count": 49
        }
      ]
    },
    {
      "cell_type": "markdown",
      "metadata": {
        "id": "lXtac5R3_i3V"
      },
      "source": [
        "# User Modeling Dataset "
      ]
    },
    {
      "cell_type": "markdown",
      "source": [
        "## Load Dataset"
      ],
      "metadata": {
        "id": "nTOyvBfs_i3W"
      }
    },
    {
      "cell_type": "code",
      "metadata": {
        "colab": {
          "base_uri": "https://localhost:8080/"
        },
        "outputId": "778f22ab-cfd6-493a-aa95-c3372867dfd1",
        "id": "ZV5uB2Vh_i3X"
      },
      "source": [
        "dataset = pd.read_csv('/content/drive/MyDrive/Colab Notebooks/Pattern Recognition/Dataset/Data_User_Modeling_Dataset.txt', sep='\t', header=None)\n",
        "dataset.columns = ['Feature 1', 'Feature 2', 'Feature 3', 'Feature 4', 'Feature 5', 'Class']\n",
        "dataset.head()"
      ],
      "execution_count": null,
      "outputs": [
        {
          "output_type": "execute_result",
          "data": {
            "text/html": [
              "\n",
              "  <div id=\"df-8fbae4d0-5c82-4298-8fd1-9b8fe6060f7b\">\n",
              "    <div class=\"colab-df-container\">\n",
              "      <div>\n",
              "<style scoped>\n",
              "    .dataframe tbody tr th:only-of-type {\n",
              "        vertical-align: middle;\n",
              "    }\n",
              "\n",
              "    .dataframe tbody tr th {\n",
              "        vertical-align: top;\n",
              "    }\n",
              "\n",
              "    .dataframe thead th {\n",
              "        text-align: right;\n",
              "    }\n",
              "</style>\n",
              "<table border=\"1\" class=\"dataframe\">\n",
              "  <thead>\n",
              "    <tr style=\"text-align: right;\">\n",
              "      <th></th>\n",
              "      <th>Feature 1</th>\n",
              "      <th>Feature 2</th>\n",
              "      <th>Feature 3</th>\n",
              "      <th>Feature 4</th>\n",
              "      <th>Feature 5</th>\n",
              "      <th>Class</th>\n",
              "    </tr>\n",
              "  </thead>\n",
              "  <tbody>\n",
              "    <tr>\n",
              "      <th>0</th>\n",
              "      <td>0.08</td>\n",
              "      <td>0.08</td>\n",
              "      <td>0.10</td>\n",
              "      <td>0.24</td>\n",
              "      <td>0.90</td>\n",
              "      <td>1</td>\n",
              "    </tr>\n",
              "    <tr>\n",
              "      <th>1</th>\n",
              "      <td>0.06</td>\n",
              "      <td>0.06</td>\n",
              "      <td>0.05</td>\n",
              "      <td>0.25</td>\n",
              "      <td>0.33</td>\n",
              "      <td>2</td>\n",
              "    </tr>\n",
              "    <tr>\n",
              "      <th>2</th>\n",
              "      <td>0.10</td>\n",
              "      <td>0.10</td>\n",
              "      <td>0.15</td>\n",
              "      <td>0.65</td>\n",
              "      <td>0.30</td>\n",
              "      <td>3</td>\n",
              "    </tr>\n",
              "    <tr>\n",
              "      <th>3</th>\n",
              "      <td>0.08</td>\n",
              "      <td>0.08</td>\n",
              "      <td>0.08</td>\n",
              "      <td>0.98</td>\n",
              "      <td>0.24</td>\n",
              "      <td>2</td>\n",
              "    </tr>\n",
              "    <tr>\n",
              "      <th>4</th>\n",
              "      <td>0.09</td>\n",
              "      <td>0.15</td>\n",
              "      <td>0.40</td>\n",
              "      <td>0.10</td>\n",
              "      <td>0.66</td>\n",
              "      <td>3</td>\n",
              "    </tr>\n",
              "  </tbody>\n",
              "</table>\n",
              "</div>\n",
              "      <button class=\"colab-df-convert\" onclick=\"convertToInteractive('df-8fbae4d0-5c82-4298-8fd1-9b8fe6060f7b')\"\n",
              "              title=\"Convert this dataframe to an interactive table.\"\n",
              "              style=\"display:none;\">\n",
              "        \n",
              "  <svg xmlns=\"http://www.w3.org/2000/svg\" height=\"24px\"viewBox=\"0 0 24 24\"\n",
              "       width=\"24px\">\n",
              "    <path d=\"M0 0h24v24H0V0z\" fill=\"none\"/>\n",
              "    <path d=\"M18.56 5.44l.94 2.06.94-2.06 2.06-.94-2.06-.94-.94-2.06-.94 2.06-2.06.94zm-11 1L8.5 8.5l.94-2.06 2.06-.94-2.06-.94L8.5 2.5l-.94 2.06-2.06.94zm10 10l.94 2.06.94-2.06 2.06-.94-2.06-.94-.94-2.06-.94 2.06-2.06.94z\"/><path d=\"M17.41 7.96l-1.37-1.37c-.4-.4-.92-.59-1.43-.59-.52 0-1.04.2-1.43.59L10.3 9.45l-7.72 7.72c-.78.78-.78 2.05 0 2.83L4 21.41c.39.39.9.59 1.41.59.51 0 1.02-.2 1.41-.59l7.78-7.78 2.81-2.81c.8-.78.8-2.07 0-2.86zM5.41 20L4 18.59l7.72-7.72 1.47 1.35L5.41 20z\"/>\n",
              "  </svg>\n",
              "      </button>\n",
              "      \n",
              "  <style>\n",
              "    .colab-df-container {\n",
              "      display:flex;\n",
              "      flex-wrap:wrap;\n",
              "      gap: 12px;\n",
              "    }\n",
              "\n",
              "    .colab-df-convert {\n",
              "      background-color: #E8F0FE;\n",
              "      border: none;\n",
              "      border-radius: 50%;\n",
              "      cursor: pointer;\n",
              "      display: none;\n",
              "      fill: #1967D2;\n",
              "      height: 32px;\n",
              "      padding: 0 0 0 0;\n",
              "      width: 32px;\n",
              "    }\n",
              "\n",
              "    .colab-df-convert:hover {\n",
              "      background-color: #E2EBFA;\n",
              "      box-shadow: 0px 1px 2px rgba(60, 64, 67, 0.3), 0px 1px 3px 1px rgba(60, 64, 67, 0.15);\n",
              "      fill: #174EA6;\n",
              "    }\n",
              "\n",
              "    [theme=dark] .colab-df-convert {\n",
              "      background-color: #3B4455;\n",
              "      fill: #D2E3FC;\n",
              "    }\n",
              "\n",
              "    [theme=dark] .colab-df-convert:hover {\n",
              "      background-color: #434B5C;\n",
              "      box-shadow: 0px 1px 3px 1px rgba(0, 0, 0, 0.15);\n",
              "      filter: drop-shadow(0px 1px 2px rgba(0, 0, 0, 0.3));\n",
              "      fill: #FFFFFF;\n",
              "    }\n",
              "  </style>\n",
              "\n",
              "      <script>\n",
              "        const buttonEl =\n",
              "          document.querySelector('#df-8fbae4d0-5c82-4298-8fd1-9b8fe6060f7b button.colab-df-convert');\n",
              "        buttonEl.style.display =\n",
              "          google.colab.kernel.accessAllowed ? 'block' : 'none';\n",
              "\n",
              "        async function convertToInteractive(key) {\n",
              "          const element = document.querySelector('#df-8fbae4d0-5c82-4298-8fd1-9b8fe6060f7b');\n",
              "          const dataTable =\n",
              "            await google.colab.kernel.invokeFunction('convertToInteractive',\n",
              "                                                     [key], {});\n",
              "          if (!dataTable) return;\n",
              "\n",
              "          const docLinkHtml = 'Like what you see? Visit the ' +\n",
              "            '<a target=\"_blank\" href=https://colab.research.google.com/notebooks/data_table.ipynb>data table notebook</a>'\n",
              "            + ' to learn more about interactive tables.';\n",
              "          element.innerHTML = '';\n",
              "          dataTable['output_type'] = 'display_data';\n",
              "          await google.colab.output.renderOutput(dataTable, element);\n",
              "          const docLink = document.createElement('div');\n",
              "          docLink.innerHTML = docLinkHtml;\n",
              "          element.appendChild(docLink);\n",
              "        }\n",
              "      </script>\n",
              "    </div>\n",
              "  </div>\n",
              "  "
            ],
            "text/plain": [
              "   Feature 1  Feature 2  Feature 3  Feature 4  Feature 5  Class\n",
              "0       0.08       0.08       0.10       0.24       0.90      1\n",
              "1       0.06       0.06       0.05       0.25       0.33      2\n",
              "2       0.10       0.10       0.15       0.65       0.30      3\n",
              "3       0.08       0.08       0.08       0.98       0.24      2\n",
              "4       0.09       0.15       0.40       0.10       0.66      3"
            ]
          },
          "metadata": {},
          "execution_count": 50
        }
      ]
    },
    {
      "cell_type": "markdown",
      "source": [
        "## Classification With Minimum Euclidean Distance"
      ],
      "metadata": {
        "id": "N5YiuXGEPMxh"
      }
    },
    {
      "cell_type": "code",
      "source": [
        "classified_labels = classify_with_minimum_euclidean_distance(dataset)"
      ],
      "metadata": {
        "id": "7XywY4IvPMxj"
      },
      "execution_count": null,
      "outputs": []
    },
    {
      "cell_type": "markdown",
      "metadata": {
        "id": "WV4udhjSPMxk"
      },
      "source": [
        "### Minimum Euclidean Distance Confustion Matrix"
      ]
    },
    {
      "cell_type": "code",
      "metadata": {
        "colab": {
          "base_uri": "https://localhost:8080/"
        },
        "outputId": "ce060d2c-eac2-4ca5-95f2-f1e79bce0818",
        "id": "ZelnNffCPMxl"
      },
      "source": [
        "confusion_matrix = get_confusion_matrix(dataset, classified_labels)\n",
        "print('Confusion Matrix: Rows is Classification Result and Columns is Reality')\n",
        "confusion_matrix"
      ],
      "execution_count": null,
      "outputs": [
        {
          "output_type": "stream",
          "name": "stdout",
          "text": [
            "Confusion Matrix: Rows is Classification Result and Columns is Reality\n"
          ]
        },
        {
          "output_type": "execute_result",
          "data": {
            "text/html": [
              "\n",
              "  <div id=\"df-7a6a5810-48e9-48cd-9d22-584dbe6c01ff\">\n",
              "    <div class=\"colab-df-container\">\n",
              "      <div>\n",
              "<style scoped>\n",
              "    .dataframe tbody tr th:only-of-type {\n",
              "        vertical-align: middle;\n",
              "    }\n",
              "\n",
              "    .dataframe tbody tr th {\n",
              "        vertical-align: top;\n",
              "    }\n",
              "\n",
              "    .dataframe thead th {\n",
              "        text-align: right;\n",
              "    }\n",
              "</style>\n",
              "<table border=\"1\" class=\"dataframe\">\n",
              "  <thead>\n",
              "    <tr style=\"text-align: right;\">\n",
              "      <th></th>\n",
              "      <th>1</th>\n",
              "      <th>2</th>\n",
              "      <th>3</th>\n",
              "      <th>4</th>\n",
              "    </tr>\n",
              "  </thead>\n",
              "  <tbody>\n",
              "    <tr>\n",
              "      <th>1</th>\n",
              "      <td>52</td>\n",
              "      <td>0</td>\n",
              "      <td>2</td>\n",
              "      <td>0</td>\n",
              "    </tr>\n",
              "    <tr>\n",
              "      <th>2</th>\n",
              "      <td>0</td>\n",
              "      <td>57</td>\n",
              "      <td>18</td>\n",
              "      <td>3</td>\n",
              "    </tr>\n",
              "    <tr>\n",
              "      <th>3</th>\n",
              "      <td>11</td>\n",
              "      <td>12</td>\n",
              "      <td>68</td>\n",
              "      <td>0</td>\n",
              "    </tr>\n",
              "    <tr>\n",
              "      <th>4</th>\n",
              "      <td>0</td>\n",
              "      <td>14</td>\n",
              "      <td>0</td>\n",
              "      <td>20</td>\n",
              "    </tr>\n",
              "  </tbody>\n",
              "</table>\n",
              "</div>\n",
              "      <button class=\"colab-df-convert\" onclick=\"convertToInteractive('df-7a6a5810-48e9-48cd-9d22-584dbe6c01ff')\"\n",
              "              title=\"Convert this dataframe to an interactive table.\"\n",
              "              style=\"display:none;\">\n",
              "        \n",
              "  <svg xmlns=\"http://www.w3.org/2000/svg\" height=\"24px\"viewBox=\"0 0 24 24\"\n",
              "       width=\"24px\">\n",
              "    <path d=\"M0 0h24v24H0V0z\" fill=\"none\"/>\n",
              "    <path d=\"M18.56 5.44l.94 2.06.94-2.06 2.06-.94-2.06-.94-.94-2.06-.94 2.06-2.06.94zm-11 1L8.5 8.5l.94-2.06 2.06-.94-2.06-.94L8.5 2.5l-.94 2.06-2.06.94zm10 10l.94 2.06.94-2.06 2.06-.94-2.06-.94-.94-2.06-.94 2.06-2.06.94z\"/><path d=\"M17.41 7.96l-1.37-1.37c-.4-.4-.92-.59-1.43-.59-.52 0-1.04.2-1.43.59L10.3 9.45l-7.72 7.72c-.78.78-.78 2.05 0 2.83L4 21.41c.39.39.9.59 1.41.59.51 0 1.02-.2 1.41-.59l7.78-7.78 2.81-2.81c.8-.78.8-2.07 0-2.86zM5.41 20L4 18.59l7.72-7.72 1.47 1.35L5.41 20z\"/>\n",
              "  </svg>\n",
              "      </button>\n",
              "      \n",
              "  <style>\n",
              "    .colab-df-container {\n",
              "      display:flex;\n",
              "      flex-wrap:wrap;\n",
              "      gap: 12px;\n",
              "    }\n",
              "\n",
              "    .colab-df-convert {\n",
              "      background-color: #E8F0FE;\n",
              "      border: none;\n",
              "      border-radius: 50%;\n",
              "      cursor: pointer;\n",
              "      display: none;\n",
              "      fill: #1967D2;\n",
              "      height: 32px;\n",
              "      padding: 0 0 0 0;\n",
              "      width: 32px;\n",
              "    }\n",
              "\n",
              "    .colab-df-convert:hover {\n",
              "      background-color: #E2EBFA;\n",
              "      box-shadow: 0px 1px 2px rgba(60, 64, 67, 0.3), 0px 1px 3px 1px rgba(60, 64, 67, 0.15);\n",
              "      fill: #174EA6;\n",
              "    }\n",
              "\n",
              "    [theme=dark] .colab-df-convert {\n",
              "      background-color: #3B4455;\n",
              "      fill: #D2E3FC;\n",
              "    }\n",
              "\n",
              "    [theme=dark] .colab-df-convert:hover {\n",
              "      background-color: #434B5C;\n",
              "      box-shadow: 0px 1px 3px 1px rgba(0, 0, 0, 0.15);\n",
              "      filter: drop-shadow(0px 1px 2px rgba(0, 0, 0, 0.3));\n",
              "      fill: #FFFFFF;\n",
              "    }\n",
              "  </style>\n",
              "\n",
              "      <script>\n",
              "        const buttonEl =\n",
              "          document.querySelector('#df-7a6a5810-48e9-48cd-9d22-584dbe6c01ff button.colab-df-convert');\n",
              "        buttonEl.style.display =\n",
              "          google.colab.kernel.accessAllowed ? 'block' : 'none';\n",
              "\n",
              "        async function convertToInteractive(key) {\n",
              "          const element = document.querySelector('#df-7a6a5810-48e9-48cd-9d22-584dbe6c01ff');\n",
              "          const dataTable =\n",
              "            await google.colab.kernel.invokeFunction('convertToInteractive',\n",
              "                                                     [key], {});\n",
              "          if (!dataTable) return;\n",
              "\n",
              "          const docLinkHtml = 'Like what you see? Visit the ' +\n",
              "            '<a target=\"_blank\" href=https://colab.research.google.com/notebooks/data_table.ipynb>data table notebook</a>'\n",
              "            + ' to learn more about interactive tables.';\n",
              "          element.innerHTML = '';\n",
              "          dataTable['output_type'] = 'display_data';\n",
              "          await google.colab.output.renderOutput(dataTable, element);\n",
              "          const docLink = document.createElement('div');\n",
              "          docLink.innerHTML = docLinkHtml;\n",
              "          element.appendChild(docLink);\n",
              "        }\n",
              "      </script>\n",
              "    </div>\n",
              "  </div>\n",
              "  "
            ],
            "text/plain": [
              "    1   2   3   4\n",
              "1  52   0   2   0\n",
              "2   0  57  18   3\n",
              "3  11  12  68   0\n",
              "4   0  14   0  20"
            ]
          },
          "metadata": {},
          "execution_count": 52
        }
      ]
    },
    {
      "cell_type": "markdown",
      "metadata": {
        "id": "aojy8NZ8PMxm"
      },
      "source": [
        "### Minimum Euclidean Distance Evaluation"
      ]
    },
    {
      "cell_type": "code",
      "metadata": {
        "id": "_-Lzu2StPMxn"
      },
      "source": [
        "accuracy = {}\n",
        "accuracy['Minimum Euclidean Distance'] = evaluate_classifier(dataset, confusion_matrix)"
      ],
      "execution_count": null,
      "outputs": []
    },
    {
      "cell_type": "markdown",
      "source": [
        "## Classification With Minimum Mahalanobis Distance"
      ],
      "metadata": {
        "id": "APu_XlJ-PMxo"
      }
    },
    {
      "cell_type": "code",
      "source": [
        "classified_labels = classify_with_minimum_mahalanobis_distance(dataset)"
      ],
      "metadata": {
        "id": "eerkO0qsPMxp"
      },
      "execution_count": null,
      "outputs": []
    },
    {
      "cell_type": "markdown",
      "metadata": {
        "id": "n4zm8mVhPMxq"
      },
      "source": [
        "### Minimum Mahalanobis Distance Confustion Matrix"
      ]
    },
    {
      "cell_type": "code",
      "metadata": {
        "colab": {
          "base_uri": "https://localhost:8080/"
        },
        "outputId": "07a693de-269c-4f11-97af-0f2179b8b6d0",
        "id": "Nvsdulg9PMxr"
      },
      "source": [
        "confusion_matrix = get_confusion_matrix(dataset, classified_labels)\n",
        "print('Confusion Matrix: Rows is Classification Result and Columns is Reality')\n",
        "confusion_matrix"
      ],
      "execution_count": null,
      "outputs": [
        {
          "output_type": "stream",
          "name": "stdout",
          "text": [
            "Confusion Matrix: Rows is Classification Result and Columns is Reality\n"
          ]
        },
        {
          "output_type": "execute_result",
          "data": {
            "text/html": [
              "\n",
              "  <div id=\"df-fbcfae4d-a93f-4878-b8bc-3a18354ffc9b\">\n",
              "    <div class=\"colab-df-container\">\n",
              "      <div>\n",
              "<style scoped>\n",
              "    .dataframe tbody tr th:only-of-type {\n",
              "        vertical-align: middle;\n",
              "    }\n",
              "\n",
              "    .dataframe tbody tr th {\n",
              "        vertical-align: top;\n",
              "    }\n",
              "\n",
              "    .dataframe thead th {\n",
              "        text-align: right;\n",
              "    }\n",
              "</style>\n",
              "<table border=\"1\" class=\"dataframe\">\n",
              "  <thead>\n",
              "    <tr style=\"text-align: right;\">\n",
              "      <th></th>\n",
              "      <th>1</th>\n",
              "      <th>2</th>\n",
              "      <th>3</th>\n",
              "      <th>4</th>\n",
              "    </tr>\n",
              "  </thead>\n",
              "  <tbody>\n",
              "    <tr>\n",
              "      <th>1</th>\n",
              "      <td>62</td>\n",
              "      <td>0</td>\n",
              "      <td>1</td>\n",
              "      <td>0</td>\n",
              "    </tr>\n",
              "    <tr>\n",
              "      <th>2</th>\n",
              "      <td>0</td>\n",
              "      <td>81</td>\n",
              "      <td>4</td>\n",
              "      <td>2</td>\n",
              "    </tr>\n",
              "    <tr>\n",
              "      <th>3</th>\n",
              "      <td>1</td>\n",
              "      <td>0</td>\n",
              "      <td>83</td>\n",
              "      <td>0</td>\n",
              "    </tr>\n",
              "    <tr>\n",
              "      <th>4</th>\n",
              "      <td>0</td>\n",
              "      <td>2</td>\n",
              "      <td>0</td>\n",
              "      <td>21</td>\n",
              "    </tr>\n",
              "  </tbody>\n",
              "</table>\n",
              "</div>\n",
              "      <button class=\"colab-df-convert\" onclick=\"convertToInteractive('df-fbcfae4d-a93f-4878-b8bc-3a18354ffc9b')\"\n",
              "              title=\"Convert this dataframe to an interactive table.\"\n",
              "              style=\"display:none;\">\n",
              "        \n",
              "  <svg xmlns=\"http://www.w3.org/2000/svg\" height=\"24px\"viewBox=\"0 0 24 24\"\n",
              "       width=\"24px\">\n",
              "    <path d=\"M0 0h24v24H0V0z\" fill=\"none\"/>\n",
              "    <path d=\"M18.56 5.44l.94 2.06.94-2.06 2.06-.94-2.06-.94-.94-2.06-.94 2.06-2.06.94zm-11 1L8.5 8.5l.94-2.06 2.06-.94-2.06-.94L8.5 2.5l-.94 2.06-2.06.94zm10 10l.94 2.06.94-2.06 2.06-.94-2.06-.94-.94-2.06-.94 2.06-2.06.94z\"/><path d=\"M17.41 7.96l-1.37-1.37c-.4-.4-.92-.59-1.43-.59-.52 0-1.04.2-1.43.59L10.3 9.45l-7.72 7.72c-.78.78-.78 2.05 0 2.83L4 21.41c.39.39.9.59 1.41.59.51 0 1.02-.2 1.41-.59l7.78-7.78 2.81-2.81c.8-.78.8-2.07 0-2.86zM5.41 20L4 18.59l7.72-7.72 1.47 1.35L5.41 20z\"/>\n",
              "  </svg>\n",
              "      </button>\n",
              "      \n",
              "  <style>\n",
              "    .colab-df-container {\n",
              "      display:flex;\n",
              "      flex-wrap:wrap;\n",
              "      gap: 12px;\n",
              "    }\n",
              "\n",
              "    .colab-df-convert {\n",
              "      background-color: #E8F0FE;\n",
              "      border: none;\n",
              "      border-radius: 50%;\n",
              "      cursor: pointer;\n",
              "      display: none;\n",
              "      fill: #1967D2;\n",
              "      height: 32px;\n",
              "      padding: 0 0 0 0;\n",
              "      width: 32px;\n",
              "    }\n",
              "\n",
              "    .colab-df-convert:hover {\n",
              "      background-color: #E2EBFA;\n",
              "      box-shadow: 0px 1px 2px rgba(60, 64, 67, 0.3), 0px 1px 3px 1px rgba(60, 64, 67, 0.15);\n",
              "      fill: #174EA6;\n",
              "    }\n",
              "\n",
              "    [theme=dark] .colab-df-convert {\n",
              "      background-color: #3B4455;\n",
              "      fill: #D2E3FC;\n",
              "    }\n",
              "\n",
              "    [theme=dark] .colab-df-convert:hover {\n",
              "      background-color: #434B5C;\n",
              "      box-shadow: 0px 1px 3px 1px rgba(0, 0, 0, 0.15);\n",
              "      filter: drop-shadow(0px 1px 2px rgba(0, 0, 0, 0.3));\n",
              "      fill: #FFFFFF;\n",
              "    }\n",
              "  </style>\n",
              "\n",
              "      <script>\n",
              "        const buttonEl =\n",
              "          document.querySelector('#df-fbcfae4d-a93f-4878-b8bc-3a18354ffc9b button.colab-df-convert');\n",
              "        buttonEl.style.display =\n",
              "          google.colab.kernel.accessAllowed ? 'block' : 'none';\n",
              "\n",
              "        async function convertToInteractive(key) {\n",
              "          const element = document.querySelector('#df-fbcfae4d-a93f-4878-b8bc-3a18354ffc9b');\n",
              "          const dataTable =\n",
              "            await google.colab.kernel.invokeFunction('convertToInteractive',\n",
              "                                                     [key], {});\n",
              "          if (!dataTable) return;\n",
              "\n",
              "          const docLinkHtml = 'Like what you see? Visit the ' +\n",
              "            '<a target=\"_blank\" href=https://colab.research.google.com/notebooks/data_table.ipynb>data table notebook</a>'\n",
              "            + ' to learn more about interactive tables.';\n",
              "          element.innerHTML = '';\n",
              "          dataTable['output_type'] = 'display_data';\n",
              "          await google.colab.output.renderOutput(dataTable, element);\n",
              "          const docLink = document.createElement('div');\n",
              "          docLink.innerHTML = docLinkHtml;\n",
              "          element.appendChild(docLink);\n",
              "        }\n",
              "      </script>\n",
              "    </div>\n",
              "  </div>\n",
              "  "
            ],
            "text/plain": [
              "    1   2   3   4\n",
              "1  62   0   1   0\n",
              "2   0  81   4   2\n",
              "3   1   0  83   0\n",
              "4   0   2   0  21"
            ]
          },
          "metadata": {},
          "execution_count": 55
        }
      ]
    },
    {
      "cell_type": "markdown",
      "metadata": {
        "id": "1HHf2_aCPMxs"
      },
      "source": [
        "### Minimum Mahalanobis Distance Evaluation"
      ]
    },
    {
      "cell_type": "code",
      "metadata": {
        "id": "s3iNZVePPMxt"
      },
      "source": [
        "accuracy['Minimum Mahalanobis Distance'] = evaluate_classifier(dataset, confusion_matrix)"
      ],
      "execution_count": null,
      "outputs": []
    },
    {
      "cell_type": "markdown",
      "metadata": {
        "id": "XdFkNgHc_i3Z"
      },
      "source": [
        "## Classification With Maximum Likelihood"
      ]
    },
    {
      "cell_type": "code",
      "metadata": {
        "id": "GD1c7hDx_i3a"
      },
      "source": [
        "classified_labels = classify_with_maximum_liklihood(dataset)"
      ],
      "execution_count": null,
      "outputs": []
    },
    {
      "cell_type": "markdown",
      "metadata": {
        "id": "20od4qE9_i3b"
      },
      "source": [
        "### Maximum Likelihood Confustion Matrix"
      ]
    },
    {
      "cell_type": "code",
      "metadata": {
        "colab": {
          "base_uri": "https://localhost:8080/"
        },
        "outputId": "2974c498-44e2-4cd0-fd22-1f5c7267bb79",
        "id": "s271HLGD_i3c"
      },
      "source": [
        "confusion_matrix = get_confusion_matrix(dataset, classified_labels)\n",
        "print('Confusion Matrix: Rows is Classification Result and Columns is Reality')\n",
        "confusion_matrix"
      ],
      "execution_count": null,
      "outputs": [
        {
          "output_type": "stream",
          "name": "stdout",
          "text": [
            "Confusion Matrix: Rows is Classification Result and Columns is Reality\n"
          ]
        },
        {
          "output_type": "execute_result",
          "data": {
            "text/html": [
              "\n",
              "  <div id=\"df-84387fee-1f8e-47a8-854f-d4adb7358c9e\">\n",
              "    <div class=\"colab-df-container\">\n",
              "      <div>\n",
              "<style scoped>\n",
              "    .dataframe tbody tr th:only-of-type {\n",
              "        vertical-align: middle;\n",
              "    }\n",
              "\n",
              "    .dataframe tbody tr th {\n",
              "        vertical-align: top;\n",
              "    }\n",
              "\n",
              "    .dataframe thead th {\n",
              "        text-align: right;\n",
              "    }\n",
              "</style>\n",
              "<table border=\"1\" class=\"dataframe\">\n",
              "  <thead>\n",
              "    <tr style=\"text-align: right;\">\n",
              "      <th></th>\n",
              "      <th>1</th>\n",
              "      <th>2</th>\n",
              "      <th>3</th>\n",
              "      <th>4</th>\n",
              "    </tr>\n",
              "  </thead>\n",
              "  <tbody>\n",
              "    <tr>\n",
              "      <th>1</th>\n",
              "      <td>62</td>\n",
              "      <td>0</td>\n",
              "      <td>1</td>\n",
              "      <td>0</td>\n",
              "    </tr>\n",
              "    <tr>\n",
              "      <th>2</th>\n",
              "      <td>0</td>\n",
              "      <td>78</td>\n",
              "      <td>4</td>\n",
              "      <td>1</td>\n",
              "    </tr>\n",
              "    <tr>\n",
              "      <th>3</th>\n",
              "      <td>1</td>\n",
              "      <td>0</td>\n",
              "      <td>83</td>\n",
              "      <td>0</td>\n",
              "    </tr>\n",
              "    <tr>\n",
              "      <th>4</th>\n",
              "      <td>0</td>\n",
              "      <td>5</td>\n",
              "      <td>0</td>\n",
              "      <td>22</td>\n",
              "    </tr>\n",
              "  </tbody>\n",
              "</table>\n",
              "</div>\n",
              "      <button class=\"colab-df-convert\" onclick=\"convertToInteractive('df-84387fee-1f8e-47a8-854f-d4adb7358c9e')\"\n",
              "              title=\"Convert this dataframe to an interactive table.\"\n",
              "              style=\"display:none;\">\n",
              "        \n",
              "  <svg xmlns=\"http://www.w3.org/2000/svg\" height=\"24px\"viewBox=\"0 0 24 24\"\n",
              "       width=\"24px\">\n",
              "    <path d=\"M0 0h24v24H0V0z\" fill=\"none\"/>\n",
              "    <path d=\"M18.56 5.44l.94 2.06.94-2.06 2.06-.94-2.06-.94-.94-2.06-.94 2.06-2.06.94zm-11 1L8.5 8.5l.94-2.06 2.06-.94-2.06-.94L8.5 2.5l-.94 2.06-2.06.94zm10 10l.94 2.06.94-2.06 2.06-.94-2.06-.94-.94-2.06-.94 2.06-2.06.94z\"/><path d=\"M17.41 7.96l-1.37-1.37c-.4-.4-.92-.59-1.43-.59-.52 0-1.04.2-1.43.59L10.3 9.45l-7.72 7.72c-.78.78-.78 2.05 0 2.83L4 21.41c.39.39.9.59 1.41.59.51 0 1.02-.2 1.41-.59l7.78-7.78 2.81-2.81c.8-.78.8-2.07 0-2.86zM5.41 20L4 18.59l7.72-7.72 1.47 1.35L5.41 20z\"/>\n",
              "  </svg>\n",
              "      </button>\n",
              "      \n",
              "  <style>\n",
              "    .colab-df-container {\n",
              "      display:flex;\n",
              "      flex-wrap:wrap;\n",
              "      gap: 12px;\n",
              "    }\n",
              "\n",
              "    .colab-df-convert {\n",
              "      background-color: #E8F0FE;\n",
              "      border: none;\n",
              "      border-radius: 50%;\n",
              "      cursor: pointer;\n",
              "      display: none;\n",
              "      fill: #1967D2;\n",
              "      height: 32px;\n",
              "      padding: 0 0 0 0;\n",
              "      width: 32px;\n",
              "    }\n",
              "\n",
              "    .colab-df-convert:hover {\n",
              "      background-color: #E2EBFA;\n",
              "      box-shadow: 0px 1px 2px rgba(60, 64, 67, 0.3), 0px 1px 3px 1px rgba(60, 64, 67, 0.15);\n",
              "      fill: #174EA6;\n",
              "    }\n",
              "\n",
              "    [theme=dark] .colab-df-convert {\n",
              "      background-color: #3B4455;\n",
              "      fill: #D2E3FC;\n",
              "    }\n",
              "\n",
              "    [theme=dark] .colab-df-convert:hover {\n",
              "      background-color: #434B5C;\n",
              "      box-shadow: 0px 1px 3px 1px rgba(0, 0, 0, 0.15);\n",
              "      filter: drop-shadow(0px 1px 2px rgba(0, 0, 0, 0.3));\n",
              "      fill: #FFFFFF;\n",
              "    }\n",
              "  </style>\n",
              "\n",
              "      <script>\n",
              "        const buttonEl =\n",
              "          document.querySelector('#df-84387fee-1f8e-47a8-854f-d4adb7358c9e button.colab-df-convert');\n",
              "        buttonEl.style.display =\n",
              "          google.colab.kernel.accessAllowed ? 'block' : 'none';\n",
              "\n",
              "        async function convertToInteractive(key) {\n",
              "          const element = document.querySelector('#df-84387fee-1f8e-47a8-854f-d4adb7358c9e');\n",
              "          const dataTable =\n",
              "            await google.colab.kernel.invokeFunction('convertToInteractive',\n",
              "                                                     [key], {});\n",
              "          if (!dataTable) return;\n",
              "\n",
              "          const docLinkHtml = 'Like what you see? Visit the ' +\n",
              "            '<a target=\"_blank\" href=https://colab.research.google.com/notebooks/data_table.ipynb>data table notebook</a>'\n",
              "            + ' to learn more about interactive tables.';\n",
              "          element.innerHTML = '';\n",
              "          dataTable['output_type'] = 'display_data';\n",
              "          await google.colab.output.renderOutput(dataTable, element);\n",
              "          const docLink = document.createElement('div');\n",
              "          docLink.innerHTML = docLinkHtml;\n",
              "          element.appendChild(docLink);\n",
              "        }\n",
              "      </script>\n",
              "    </div>\n",
              "  </div>\n",
              "  "
            ],
            "text/plain": [
              "    1   2   3   4\n",
              "1  62   0   1   0\n",
              "2   0  78   4   1\n",
              "3   1   0  83   0\n",
              "4   0   5   0  22"
            ]
          },
          "metadata": {},
          "execution_count": 58
        }
      ]
    },
    {
      "cell_type": "markdown",
      "metadata": {
        "id": "t6P5bktN_i3c"
      },
      "source": [
        "### Maximum Likelihood Evaluation"
      ]
    },
    {
      "cell_type": "code",
      "metadata": {
        "id": "uj0bVA4h_i3d"
      },
      "source": [
        "accuracy['Maximum Likelihood'] = evaluate_classifier(dataset, confusion_matrix)"
      ],
      "execution_count": null,
      "outputs": []
    },
    {
      "cell_type": "markdown",
      "metadata": {
        "id": "9-aZ63Hy_i3d"
      },
      "source": [
        "## Classification With Maximum A Posterior"
      ]
    },
    {
      "cell_type": "code",
      "metadata": {
        "id": "TbYcMa3v_i3e"
      },
      "source": [
        "classified_labels = classify_with_maximum_a_posterior(dataset)"
      ],
      "execution_count": null,
      "outputs": []
    },
    {
      "cell_type": "markdown",
      "metadata": {
        "id": "lsBkeOL0_i3e"
      },
      "source": [
        "### Maximum A Posterior Confustion Matrix"
      ]
    },
    {
      "cell_type": "code",
      "metadata": {
        "colab": {
          "base_uri": "https://localhost:8080/"
        },
        "outputId": "be0985c3-4ef6-4e69-8615-f363f4d9e61e",
        "id": "pt6-a45U_i3f"
      },
      "source": [
        "confusion_matrix = get_confusion_matrix(dataset, classified_labels)\n",
        "print('Confusion Matrix: Rows is Classification Result and Columns is Reality')\n",
        "confusion_matrix"
      ],
      "execution_count": null,
      "outputs": [
        {
          "output_type": "stream",
          "name": "stdout",
          "text": [
            "Confusion Matrix: Rows is Classification Result and Columns is Reality\n"
          ]
        },
        {
          "output_type": "execute_result",
          "data": {
            "text/html": [
              "\n",
              "  <div id=\"df-527fab09-b1ae-4dc3-8b3f-6a5425eedc4c\">\n",
              "    <div class=\"colab-df-container\">\n",
              "      <div>\n",
              "<style scoped>\n",
              "    .dataframe tbody tr th:only-of-type {\n",
              "        vertical-align: middle;\n",
              "    }\n",
              "\n",
              "    .dataframe tbody tr th {\n",
              "        vertical-align: top;\n",
              "    }\n",
              "\n",
              "    .dataframe thead th {\n",
              "        text-align: right;\n",
              "    }\n",
              "</style>\n",
              "<table border=\"1\" class=\"dataframe\">\n",
              "  <thead>\n",
              "    <tr style=\"text-align: right;\">\n",
              "      <th></th>\n",
              "      <th>1</th>\n",
              "      <th>2</th>\n",
              "      <th>3</th>\n",
              "      <th>4</th>\n",
              "    </tr>\n",
              "  </thead>\n",
              "  <tbody>\n",
              "    <tr>\n",
              "      <th>1</th>\n",
              "      <td>62</td>\n",
              "      <td>0</td>\n",
              "      <td>1</td>\n",
              "      <td>0</td>\n",
              "    </tr>\n",
              "    <tr>\n",
              "      <th>2</th>\n",
              "      <td>0</td>\n",
              "      <td>82</td>\n",
              "      <td>4</td>\n",
              "      <td>2</td>\n",
              "    </tr>\n",
              "    <tr>\n",
              "      <th>3</th>\n",
              "      <td>1</td>\n",
              "      <td>0</td>\n",
              "      <td>83</td>\n",
              "      <td>0</td>\n",
              "    </tr>\n",
              "    <tr>\n",
              "      <th>4</th>\n",
              "      <td>0</td>\n",
              "      <td>1</td>\n",
              "      <td>0</td>\n",
              "      <td>21</td>\n",
              "    </tr>\n",
              "  </tbody>\n",
              "</table>\n",
              "</div>\n",
              "      <button class=\"colab-df-convert\" onclick=\"convertToInteractive('df-527fab09-b1ae-4dc3-8b3f-6a5425eedc4c')\"\n",
              "              title=\"Convert this dataframe to an interactive table.\"\n",
              "              style=\"display:none;\">\n",
              "        \n",
              "  <svg xmlns=\"http://www.w3.org/2000/svg\" height=\"24px\"viewBox=\"0 0 24 24\"\n",
              "       width=\"24px\">\n",
              "    <path d=\"M0 0h24v24H0V0z\" fill=\"none\"/>\n",
              "    <path d=\"M18.56 5.44l.94 2.06.94-2.06 2.06-.94-2.06-.94-.94-2.06-.94 2.06-2.06.94zm-11 1L8.5 8.5l.94-2.06 2.06-.94-2.06-.94L8.5 2.5l-.94 2.06-2.06.94zm10 10l.94 2.06.94-2.06 2.06-.94-2.06-.94-.94-2.06-.94 2.06-2.06.94z\"/><path d=\"M17.41 7.96l-1.37-1.37c-.4-.4-.92-.59-1.43-.59-.52 0-1.04.2-1.43.59L10.3 9.45l-7.72 7.72c-.78.78-.78 2.05 0 2.83L4 21.41c.39.39.9.59 1.41.59.51 0 1.02-.2 1.41-.59l7.78-7.78 2.81-2.81c.8-.78.8-2.07 0-2.86zM5.41 20L4 18.59l7.72-7.72 1.47 1.35L5.41 20z\"/>\n",
              "  </svg>\n",
              "      </button>\n",
              "      \n",
              "  <style>\n",
              "    .colab-df-container {\n",
              "      display:flex;\n",
              "      flex-wrap:wrap;\n",
              "      gap: 12px;\n",
              "    }\n",
              "\n",
              "    .colab-df-convert {\n",
              "      background-color: #E8F0FE;\n",
              "      border: none;\n",
              "      border-radius: 50%;\n",
              "      cursor: pointer;\n",
              "      display: none;\n",
              "      fill: #1967D2;\n",
              "      height: 32px;\n",
              "      padding: 0 0 0 0;\n",
              "      width: 32px;\n",
              "    }\n",
              "\n",
              "    .colab-df-convert:hover {\n",
              "      background-color: #E2EBFA;\n",
              "      box-shadow: 0px 1px 2px rgba(60, 64, 67, 0.3), 0px 1px 3px 1px rgba(60, 64, 67, 0.15);\n",
              "      fill: #174EA6;\n",
              "    }\n",
              "\n",
              "    [theme=dark] .colab-df-convert {\n",
              "      background-color: #3B4455;\n",
              "      fill: #D2E3FC;\n",
              "    }\n",
              "\n",
              "    [theme=dark] .colab-df-convert:hover {\n",
              "      background-color: #434B5C;\n",
              "      box-shadow: 0px 1px 3px 1px rgba(0, 0, 0, 0.15);\n",
              "      filter: drop-shadow(0px 1px 2px rgba(0, 0, 0, 0.3));\n",
              "      fill: #FFFFFF;\n",
              "    }\n",
              "  </style>\n",
              "\n",
              "      <script>\n",
              "        const buttonEl =\n",
              "          document.querySelector('#df-527fab09-b1ae-4dc3-8b3f-6a5425eedc4c button.colab-df-convert');\n",
              "        buttonEl.style.display =\n",
              "          google.colab.kernel.accessAllowed ? 'block' : 'none';\n",
              "\n",
              "        async function convertToInteractive(key) {\n",
              "          const element = document.querySelector('#df-527fab09-b1ae-4dc3-8b3f-6a5425eedc4c');\n",
              "          const dataTable =\n",
              "            await google.colab.kernel.invokeFunction('convertToInteractive',\n",
              "                                                     [key], {});\n",
              "          if (!dataTable) return;\n",
              "\n",
              "          const docLinkHtml = 'Like what you see? Visit the ' +\n",
              "            '<a target=\"_blank\" href=https://colab.research.google.com/notebooks/data_table.ipynb>data table notebook</a>'\n",
              "            + ' to learn more about interactive tables.';\n",
              "          element.innerHTML = '';\n",
              "          dataTable['output_type'] = 'display_data';\n",
              "          await google.colab.output.renderOutput(dataTable, element);\n",
              "          const docLink = document.createElement('div');\n",
              "          docLink.innerHTML = docLinkHtml;\n",
              "          element.appendChild(docLink);\n",
              "        }\n",
              "      </script>\n",
              "    </div>\n",
              "  </div>\n",
              "  "
            ],
            "text/plain": [
              "    1   2   3   4\n",
              "1  62   0   1   0\n",
              "2   0  82   4   2\n",
              "3   1   0  83   0\n",
              "4   0   1   0  21"
            ]
          },
          "metadata": {},
          "execution_count": 61
        }
      ]
    },
    {
      "cell_type": "markdown",
      "metadata": {
        "id": "EIwXw-SR_i3g"
      },
      "source": [
        "### Maximum A Posterior Evaluation"
      ]
    },
    {
      "cell_type": "code",
      "metadata": {
        "id": "LAT8qQ4o_i3g"
      },
      "source": [
        "accuracy['Maximum A Posterior'] = evaluate_classifier(dataset, confusion_matrix)"
      ],
      "execution_count": null,
      "outputs": []
    },
    {
      "cell_type": "markdown",
      "source": [
        "## Evaluation"
      ],
      "metadata": {
        "id": "l32n-aqX_i3l"
      }
    },
    {
      "cell_type": "code",
      "source": [
        "print_evaluation(dataset, accuracy)"
      ],
      "metadata": {
        "colab": {
          "base_uri": "https://localhost:8080/"
        },
        "outputId": "9cc3522a-3b96-44d0-ce7d-bffa9b7abeba",
        "id": "7qPNQttx_i3m"
      },
      "execution_count": null,
      "outputs": [
        {
          "output_type": "execute_result",
          "data": {
            "text/html": [
              "<style  type=\"text/css\" >\n",
              "</style><table id=\"T_8981b0c2_5fcf_11ec_85df_0242ac1c0002\" class=\"dataframe\"><thead>    <tr>        <th class=\"blank level0\" ></th>        <th class=\"col_heading level0 col0\" >Total Accuracy</th>        <th class=\"col_heading level0 col1\" >Accuracy Class 1</th>        <th class=\"col_heading level0 col2\" >Accuracy Class 2</th>        <th class=\"col_heading level0 col3\" >Accuracy Class 3</th>        <th class=\"col_heading level0 col4\" >Accuracy Class 4</th>    </tr></thead><tbody>\n",
              "                <tr>\n",
              "                        <th id=\"T_8981b0c2_5fcf_11ec_85df_0242ac1c0002level0_row0\" class=\"row_heading level0 row0\" >Minimum Euclidean Distance</th>\n",
              "                        <td id=\"T_8981b0c2_5fcf_11ec_85df_0242ac1c0002row0_col0\" class=\"data row0 col0\" >77%</td>\n",
              "                        <td id=\"T_8981b0c2_5fcf_11ec_85df_0242ac1c0002row0_col1\" class=\"data row0 col1\" >83%</td>\n",
              "                        <td id=\"T_8981b0c2_5fcf_11ec_85df_0242ac1c0002row0_col2\" class=\"data row0 col2\" >69%</td>\n",
              "                        <td id=\"T_8981b0c2_5fcf_11ec_85df_0242ac1c0002row0_col3\" class=\"data row0 col3\" >77%</td>\n",
              "                        <td id=\"T_8981b0c2_5fcf_11ec_85df_0242ac1c0002row0_col4\" class=\"data row0 col4\" >87%</td>\n",
              "            </tr>\n",
              "            <tr>\n",
              "                        <th id=\"T_8981b0c2_5fcf_11ec_85df_0242ac1c0002level0_row1\" class=\"row_heading level0 row1\" >Minimum Mahalanobis Distance</th>\n",
              "                        <td id=\"T_8981b0c2_5fcf_11ec_85df_0242ac1c0002row1_col0\" class=\"data row1 col0\" >96%</td>\n",
              "                        <td id=\"T_8981b0c2_5fcf_11ec_85df_0242ac1c0002row1_col1\" class=\"data row1 col1\" >98%</td>\n",
              "                        <td id=\"T_8981b0c2_5fcf_11ec_85df_0242ac1c0002row1_col2\" class=\"data row1 col2\" >98%</td>\n",
              "                        <td id=\"T_8981b0c2_5fcf_11ec_85df_0242ac1c0002row1_col3\" class=\"data row1 col3\" >94%</td>\n",
              "                        <td id=\"T_8981b0c2_5fcf_11ec_85df_0242ac1c0002row1_col4\" class=\"data row1 col4\" >91%</td>\n",
              "            </tr>\n",
              "            <tr>\n",
              "                        <th id=\"T_8981b0c2_5fcf_11ec_85df_0242ac1c0002level0_row2\" class=\"row_heading level0 row2\" >Maximum Likelihood</th>\n",
              "                        <td id=\"T_8981b0c2_5fcf_11ec_85df_0242ac1c0002row2_col0\" class=\"data row2 col0\" >95%</td>\n",
              "                        <td id=\"T_8981b0c2_5fcf_11ec_85df_0242ac1c0002row2_col1\" class=\"data row2 col1\" >98%</td>\n",
              "                        <td id=\"T_8981b0c2_5fcf_11ec_85df_0242ac1c0002row2_col2\" class=\"data row2 col2\" >94%</td>\n",
              "                        <td id=\"T_8981b0c2_5fcf_11ec_85df_0242ac1c0002row2_col3\" class=\"data row2 col3\" >94%</td>\n",
              "                        <td id=\"T_8981b0c2_5fcf_11ec_85df_0242ac1c0002row2_col4\" class=\"data row2 col4\" >96%</td>\n",
              "            </tr>\n",
              "            <tr>\n",
              "                        <th id=\"T_8981b0c2_5fcf_11ec_85df_0242ac1c0002level0_row3\" class=\"row_heading level0 row3\" >Maximum A Posterior</th>\n",
              "                        <td id=\"T_8981b0c2_5fcf_11ec_85df_0242ac1c0002row3_col0\" class=\"data row3 col0\" >96%</td>\n",
              "                        <td id=\"T_8981b0c2_5fcf_11ec_85df_0242ac1c0002row3_col1\" class=\"data row3 col1\" >98%</td>\n",
              "                        <td id=\"T_8981b0c2_5fcf_11ec_85df_0242ac1c0002row3_col2\" class=\"data row3 col2\" >99%</td>\n",
              "                        <td id=\"T_8981b0c2_5fcf_11ec_85df_0242ac1c0002row3_col3\" class=\"data row3 col3\" >94%</td>\n",
              "                        <td id=\"T_8981b0c2_5fcf_11ec_85df_0242ac1c0002row3_col4\" class=\"data row3 col4\" >91%</td>\n",
              "            </tr>\n",
              "    </tbody></table>"
            ],
            "text/plain": [
              "<pandas.io.formats.style.Styler at 0x7faf3683b510>"
            ]
          },
          "metadata": {},
          "execution_count": 63
        }
      ]
    }
  ]
}